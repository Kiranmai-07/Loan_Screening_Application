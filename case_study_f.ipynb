{
  "nbformat": 4,
  "nbformat_minor": 0,
  "metadata": {
    "colab": {
      "provenance": []
    },
    "kernelspec": {
      "name": "python3",
      "display_name": "Python 3"
    },
    "language_info": {
      "name": "python"
    }
  },
  "cells": [
    {
      "cell_type": "markdown",
      "source": [
        "#JPMorgan Chase CCB Case Study Submission\n",
        "###Name: Kancharla Kiranmai\n",
        "\n",
        "###Question-1 :\n",
        "####As a decision maker, looking into these given booked accounts, how would you want to take a decision to approve/ decline the same applications again in future? What would be your screening criterion(s), if any?\n",
        "<br>\n",
        "By looking into previous booked account and checking their loan status,delinquency, details of total payment, any remaining outstanding principal for total amount funded, current dti, lti, employment length and income values to approve/decline loan.\n",
        "<br>\n",
        "For future applications my screening criterions would be the following:\n",
        "<br>\n",
        "<br>\n",
        "Previous Recoveries: Applicants with 0 recoveries are preffered\n",
        "<br>\n",
        "<br>\n",
        "Number of Inquiries in the Last 6 Months:  0 or 1 inquiry is prefered\n",
        "<br>\n",
        "<br>\n",
        "Debt-to-Income Ratio (DTI): DTI less than or 13.25 is preffered\n",
        "<br>\n",
        "<br>\n",
        "Minimum FICO Score: A FICO score around 639+ is preferred\n",
        "<br>\n",
        "<br>\n",
        "Loan-to-Income (LTI) Ratio: LTI less than or around 0.16 is preferred.\n",
        "<br>\n",
        "<br>\n",
        "Total Credit Revolving Balance: This indicates the total amount of credit currently in use. Lower balances are preferable.\n",
        "<br>\n",
        "<br>\n",
        "Minimum Annual Income: Higher income levels suggest a better ability to repay the loan.\n",
        "<br>\n",
        "<br>\n",
        "Employment Length: employment length of min 4 yrs is preffered\n",
        "<br>\n",
        "<br>\n",
        "Public Records: The absence of negative public records (e.g., bankruptcies, foreclosures) is preferable.\n",
        "<br>\n",
        "<br>\n",
        "Open Credit Lines: open credit accounts less than 15 are preffered\n",
        "<br>\n",
        "<br>\n",
        "Bankcard Accounts Utilization (>75%): Between 0 and 2 are preffered\n",
        "<br>\n",
        "<br>\n",
        "Recent History of Defaults or Late Payments: minimum last delinquency around 33 months are preffered\n",
        "<br>\n",
        "<br>\n",
        "\n",
        "\n",
        "###Question-2 :\n",
        "#####Please provide data driven rationale to substantiate the appropriateness of the characteristics you have identified in the screening logic\n",
        "<br>\n",
        "Following are the data attributes that substantiate the appropriateness of the characteristics identified in the screening logic:\n",
        "<br>\n",
        "recoveries,\n",
        " fico_score,\n",
        "loan_amnt,\n",
        "inq_last_6mths,\n",
        "month_since_oldest_tl,\n",
        "interest_rate,\n",
        "total_acc,\n",
        "mths_since_last_record,\n",
        "term,\n",
        "number_bc_gt_75,\n",
        "installment,\n",
        "revol_bal,\n",
        "out_prncp,\n",
        "lti,\n",
        "emp_length,\n",
        "dti,\n",
        "annual_inc,\n",
        "mths_since_last_delinq,\n",
        "open_acc,\n",
        "collection_recovery_fee,\n",
        "revol_utilization,\n",
        "delinq_2yrs,\n",
        "pub_rec,\n",
        "home ownership,\n",
        "pub_rec_bankruptcies.\n",
        "<br>\n",
        "<br>\n",
        "\n",
        "###Question- 3 :\n",
        "#####Given that you have a decision engine, which helps you to take a call based on the given data, how would you identify if your process has an unintentional bias and discriminate your customers based on some of the sensitive attributes, available in this dataset?\n",
        "<br>\n",
        " I will also train my model with sensitive attributes(race and gender) and look onto the feature importance values of the features and identify whether the model has any unintentional bias.\n",
        " <br>\n",
        " From the feature imporatance values of the created model below clearly race and gender has very less importance values which states that loan screening is not influenced by those features and model is not biased towards sensitive attributes.\n",
        "<br>\n",
        "<br>\n",
        "<table>\n",
        "   <tr>\n",
        "      <th></th>\n",
        "     <th>Importance</th>\n",
        "    </tr>\n",
        "    <tr>\n",
        "      <td>recoveries</td>\n",
        "      <td>0.821226</td>\n",
        "    </tr>\n",
        "    <tr>\n",
        "      <td>fico_score</td>\n",
        "      <td>0.078321</td>\n",
        "    </tr>\n",
        "    <tr>\n",
        "      <td>inq_last_6mths</td>\n",
        "      <td>0.031843</td>\n",
        "    </tr>\n",
        "    <tr>\n",
        "      <td>month_since_oldest_tl</td>\n",
        "      <td> 0.024720</td>\n",
        "    </tr>\n",
        "     <tr>\n",
        "      <td>interest_rate</td>\n",
        "      <td>0.011899</td>\n",
        "    </tr>\n",
        "     <tr>\n",
        "      <td>total_acc</td>\n",
        "      <td>0.010493</td>\n",
        "    </tr>\n",
        "     <tr>\n",
        "      <td>mths_since_last_record</td>\n",
        "      <td>0.005331</td>\n",
        "    </tr>\n",
        "    <tr>\n",
        "      <td>term</td>\n",
        "      <td>0.004705</td>\n",
        "    </tr>\n",
        "    <tr>\n",
        "      <td>number_bc_gt_75</td>\n",
        "      <td>0.002983</td>\n",
        "    </tr>\n",
        "    <tr>\n",
        "      <td>loan_amnt</td>\n",
        "      <td>  0.002361</td>\n",
        "    </tr>\n",
        "    <tr>\n",
        "      <td>revol_bal</td>\n",
        "      <td> 0.001147</td>\n",
        "    </tr>\n",
        "     <tr>\n",
        "      <td>lti</td>\n",
        "      <td> 0.001147</td>\n",
        "    </tr>\n",
        "     <tr>\n",
        "      <td>emp_length</td>\n",
        "      <td>0.000592</td>\n",
        "    </tr>\n",
        "    <tr>\n",
        "      <td>annual_inc</td>\n",
        "      <td> 0.000444</td>\n",
        "    </tr>\n",
        "    <tr>\n",
        "      <td>dti</td>\n",
        "      <td> 0.000422</td>\n",
        "    </tr>\n",
        "    <tr>\n",
        "      <td>mths_since_last_delinq</td>\n",
        "      <td>0.000351</td>\n",
        "    </tr>\n",
        "    <tr>\n",
        "      <td>home_ownership</td>\n",
        "      <td>0.000318</td>\n",
        "    </tr>\n",
        "    <tr>\n",
        "      <td>revol_utilization</td>\n",
        "      <td>0.000263</td>\n",
        "    </tr>\n",
        "    <tr>\n",
        "      <td>installment</td>\n",
        "      <td>0.000242</td>\n",
        "    </tr>\n",
        "    <tr>\n",
        "      <td>open_acc</td>\n",
        "      <td>0.000205</td>\n",
        "    </tr>\n",
        "    <tr>\n",
        "      <td>out_prncp</td>\n",
        "      <td>0.000099</td>\n",
        "    </tr>\n",
        "    <tr>\n",
        "      <td>gender</td>\n",
        "      <td> 0.000080</td>\n",
        "    </tr>\n",
        "    <tr>\n",
        "      <td>delinq_2yrs</td>\n",
        "      <td>0.000075</td>\n",
        "    </tr>\n",
        "    <tr>\n",
        "      <td>pub_rec_bankruptcies</td>\n",
        "      <td>0.000048 </td>\n",
        "    </tr>\n",
        "    <tr>\n",
        "      <td>race_name</td>\n",
        "      <td>0.000037</td>\n",
        "    </tr>\n",
        "     <tr>\n",
        "      <td>collection_recovery_fee</td>\n",
        "      <td>0.000035</td>\n",
        "    </tr>\n",
        "    <tr>\n",
        "      <td>pub_rec </td>\n",
        "      <td>0.000028</td>\n",
        "    </tr>\n",
        "     \n",
        "  </table>\n"
      ],
      "metadata": {
        "id": "EaD-rNe_mIfO"
      }
    },
    {
      "cell_type": "code",
      "execution_count": null,
      "metadata": {
        "colab": {
          "base_uri": "https://localhost:8080/",
          "height": 37
        },
        "id": "tPF8awUW7WAf",
        "outputId": "3ce3221e-b672-4042-a98b-0fdd649cd576"
      },
      "outputs": [
        {
          "output_type": "display_data",
          "data": {
            "text/plain": [
              "<IPython.core.display.HTML object>"
            ],
            "text/html": [
              "\n",
              "     <input type=\"file\" id=\"files-4f95d2dd-084a-4649-8cb7-73b783d137ac\" name=\"files[]\" multiple disabled\n",
              "        style=\"border:none\" />\n",
              "     <output id=\"result-4f95d2dd-084a-4649-8cb7-73b783d137ac\">\n",
              "      Upload widget is only available when the cell has been executed in the\n",
              "      current browser session. Please rerun this cell to enable.\n",
              "      </output>\n",
              "      <script>// Copyright 2017 Google LLC\n",
              "//\n",
              "// Licensed under the Apache License, Version 2.0 (the \"License\");\n",
              "// you may not use this file except in compliance with the License.\n",
              "// You may obtain a copy of the License at\n",
              "//\n",
              "//      http://www.apache.org/licenses/LICENSE-2.0\n",
              "//\n",
              "// Unless required by applicable law or agreed to in writing, software\n",
              "// distributed under the License is distributed on an \"AS IS\" BASIS,\n",
              "// WITHOUT WARRANTIES OR CONDITIONS OF ANY KIND, either express or implied.\n",
              "// See the License for the specific language governing permissions and\n",
              "// limitations under the License.\n",
              "\n",
              "/**\n",
              " * @fileoverview Helpers for google.colab Python module.\n",
              " */\n",
              "(function(scope) {\n",
              "function span(text, styleAttributes = {}) {\n",
              "  const element = document.createElement('span');\n",
              "  element.textContent = text;\n",
              "  for (const key of Object.keys(styleAttributes)) {\n",
              "    element.style[key] = styleAttributes[key];\n",
              "  }\n",
              "  return element;\n",
              "}\n",
              "\n",
              "// Max number of bytes which will be uploaded at a time.\n",
              "const MAX_PAYLOAD_SIZE = 100 * 1024;\n",
              "\n",
              "function _uploadFiles(inputId, outputId) {\n",
              "  const steps = uploadFilesStep(inputId, outputId);\n",
              "  const outputElement = document.getElementById(outputId);\n",
              "  // Cache steps on the outputElement to make it available for the next call\n",
              "  // to uploadFilesContinue from Python.\n",
              "  outputElement.steps = steps;\n",
              "\n",
              "  return _uploadFilesContinue(outputId);\n",
              "}\n",
              "\n",
              "// This is roughly an async generator (not supported in the browser yet),\n",
              "// where there are multiple asynchronous steps and the Python side is going\n",
              "// to poll for completion of each step.\n",
              "// This uses a Promise to block the python side on completion of each step,\n",
              "// then passes the result of the previous step as the input to the next step.\n",
              "function _uploadFilesContinue(outputId) {\n",
              "  const outputElement = document.getElementById(outputId);\n",
              "  const steps = outputElement.steps;\n",
              "\n",
              "  const next = steps.next(outputElement.lastPromiseValue);\n",
              "  return Promise.resolve(next.value.promise).then((value) => {\n",
              "    // Cache the last promise value to make it available to the next\n",
              "    // step of the generator.\n",
              "    outputElement.lastPromiseValue = value;\n",
              "    return next.value.response;\n",
              "  });\n",
              "}\n",
              "\n",
              "/**\n",
              " * Generator function which is called between each async step of the upload\n",
              " * process.\n",
              " * @param {string} inputId Element ID of the input file picker element.\n",
              " * @param {string} outputId Element ID of the output display.\n",
              " * @return {!Iterable<!Object>} Iterable of next steps.\n",
              " */\n",
              "function* uploadFilesStep(inputId, outputId) {\n",
              "  const inputElement = document.getElementById(inputId);\n",
              "  inputElement.disabled = false;\n",
              "\n",
              "  const outputElement = document.getElementById(outputId);\n",
              "  outputElement.innerHTML = '';\n",
              "\n",
              "  const pickedPromise = new Promise((resolve) => {\n",
              "    inputElement.addEventListener('change', (e) => {\n",
              "      resolve(e.target.files);\n",
              "    });\n",
              "  });\n",
              "\n",
              "  const cancel = document.createElement('button');\n",
              "  inputElement.parentElement.appendChild(cancel);\n",
              "  cancel.textContent = 'Cancel upload';\n",
              "  const cancelPromise = new Promise((resolve) => {\n",
              "    cancel.onclick = () => {\n",
              "      resolve(null);\n",
              "    };\n",
              "  });\n",
              "\n",
              "  // Wait for the user to pick the files.\n",
              "  const files = yield {\n",
              "    promise: Promise.race([pickedPromise, cancelPromise]),\n",
              "    response: {\n",
              "      action: 'starting',\n",
              "    }\n",
              "  };\n",
              "\n",
              "  cancel.remove();\n",
              "\n",
              "  // Disable the input element since further picks are not allowed.\n",
              "  inputElement.disabled = true;\n",
              "\n",
              "  if (!files) {\n",
              "    return {\n",
              "      response: {\n",
              "        action: 'complete',\n",
              "      }\n",
              "    };\n",
              "  }\n",
              "\n",
              "  for (const file of files) {\n",
              "    const li = document.createElement('li');\n",
              "    li.append(span(file.name, {fontWeight: 'bold'}));\n",
              "    li.append(span(\n",
              "        `(${file.type || 'n/a'}) - ${file.size} bytes, ` +\n",
              "        `last modified: ${\n",
              "            file.lastModifiedDate ? file.lastModifiedDate.toLocaleDateString() :\n",
              "                                    'n/a'} - `));\n",
              "    const percent = span('0% done');\n",
              "    li.appendChild(percent);\n",
              "\n",
              "    outputElement.appendChild(li);\n",
              "\n",
              "    const fileDataPromise = new Promise((resolve) => {\n",
              "      const reader = new FileReader();\n",
              "      reader.onload = (e) => {\n",
              "        resolve(e.target.result);\n",
              "      };\n",
              "      reader.readAsArrayBuffer(file);\n",
              "    });\n",
              "    // Wait for the data to be ready.\n",
              "    let fileData = yield {\n",
              "      promise: fileDataPromise,\n",
              "      response: {\n",
              "        action: 'continue',\n",
              "      }\n",
              "    };\n",
              "\n",
              "    // Use a chunked sending to avoid message size limits. See b/62115660.\n",
              "    let position = 0;\n",
              "    do {\n",
              "      const length = Math.min(fileData.byteLength - position, MAX_PAYLOAD_SIZE);\n",
              "      const chunk = new Uint8Array(fileData, position, length);\n",
              "      position += length;\n",
              "\n",
              "      const base64 = btoa(String.fromCharCode.apply(null, chunk));\n",
              "      yield {\n",
              "        response: {\n",
              "          action: 'append',\n",
              "          file: file.name,\n",
              "          data: base64,\n",
              "        },\n",
              "      };\n",
              "\n",
              "      let percentDone = fileData.byteLength === 0 ?\n",
              "          100 :\n",
              "          Math.round((position / fileData.byteLength) * 100);\n",
              "      percent.textContent = `${percentDone}% done`;\n",
              "\n",
              "    } while (position < fileData.byteLength);\n",
              "  }\n",
              "\n",
              "  // All done.\n",
              "  yield {\n",
              "    response: {\n",
              "      action: 'complete',\n",
              "    }\n",
              "  };\n",
              "}\n",
              "\n",
              "scope.google = scope.google || {};\n",
              "scope.google.colab = scope.google.colab || {};\n",
              "scope.google.colab._files = {\n",
              "  _uploadFiles,\n",
              "  _uploadFilesContinue,\n",
              "};\n",
              "})(self);\n",
              "</script> "
            ]
          },
          "metadata": {}
        }
      ],
      "source": [
        "from google.colab import files\n",
        "uploaded = files.upload()"
      ]
    },
    {
      "cell_type": "markdown",
      "source": [
        "####Import Libraries"
      ],
      "metadata": {
        "id": "_m29rVWGXbBu"
      }
    },
    {
      "cell_type": "code",
      "source": [
        "import io\n",
        "import numpy as np\n",
        "import pandas as pd\n",
        "import seaborn as sns\n",
        "import matplotlib.pyplot as plt\n",
        "\n",
        "from sklearn.metrics import confusion_matrix,classification_report,ConfusionMatrixDisplay\n",
        "from sklearn.metrics import accuracy_score\n",
        "from sklearn.metrics import PrecisionRecallDisplay, RocCurveDisplay,roc_curve\n",
        "\n",
        "from sklearn.model_selection import train_test_split\n",
        "from sklearn.preprocessing import StandardScaler\n",
        "from sklearn.linear_model import LogisticRegression\n",
        "from sklearn.tree import DecisionTreeClassifier\n",
        "from sklearn.ensemble import RandomForestClassifier\n",
        "from sklearn.ensemble import GradientBoostingClassifier\n",
        "\n",
        "from imblearn.over_sampling import SMOTE\n",
        "from collections import Counter"
      ],
      "metadata": {
        "id": "XAE9owbEdVWh"
      },
      "execution_count": null,
      "outputs": []
    },
    {
      "cell_type": "markdown",
      "source": [
        "FUNCTION FOR EVALUATION METRICS OF THE REQUIRED MODEL"
      ],
      "metadata": {
        "id": "7Bp_V64-RHut"
      }
    },
    {
      "cell_type": "code",
      "source": [
        "def getEvaluationMetrices(model_name,X_train,y_train,X_test,y_test,seed=101,feature_imp=\"\"):\n",
        "\n",
        "  if model_name == \"LR\":\n",
        "    scaler = StandardScaler()\n",
        "    scaled_X_train = scaler.fit_transform(X_train)\n",
        "    scaled_X_test = scaler.transform(X_test)\n",
        "    model = LogisticRegression()\n",
        "\n",
        "  elif model_name == \"DT\":\n",
        "    model = DecisionTreeClassifier(max_depth=12, random_state=seed)\n",
        "\n",
        "  elif model_name == \"RF\":\n",
        "    model = RandomForestClassifier(n_estimators=100,max_depth=12,random_state=seed)\n",
        "\n",
        "  else :\n",
        "    model = GradientBoostingClassifier(learning_rate=0.1, n_estimators=125, max_depth=5)\n",
        "    model.fit(X_train, y_train)\n",
        "\n",
        "  if model_name == \"LR\":\n",
        "    model.fit(scaled_X_train, y_train)\n",
        "    train_preds = model.predict(scaled_X_train)\n",
        "    y_preds = model.predict(scaled_X_test)\n",
        "    RocCurveDisplay.from_predictions(y_true=y_test, y_pred=y_preds)\n",
        "    plt.show()\n",
        "  else :\n",
        "    model.fit(X_train, y_train)\n",
        "    train_preds = model.predict(X_train)\n",
        "    y_preds = model.predict(X_test)\n",
        "\n",
        "  acc_train = accuracy_score(y_train,train_preds)\n",
        "  acc_val = accuracy_score(y_test,y_preds)\n",
        "  print(f'Training accuracy : {acc_train*100}%')\n",
        "  print(f'Testing accuracy : {acc_val*100}%')\n",
        "  print()\n",
        "  disp=ConfusionMatrixDisplay(confusion_matrix=confusion_matrix(y_true=y_test, y_pred=y_preds))\n",
        "  disp.plot()\n",
        "  plt.show()\n",
        "  # print(pd.crosstab(y_test,y_preds))\n",
        "  print()\n",
        "  print(classification_report(y_true=y_test, y_pred=y_preds))\n",
        "  if(feature_imp==\"feature_imp\"):\n",
        "    feats = pd.DataFrame(index=X.columns,data=model.feature_importances_,columns=['Importance'])\n",
        "    imp_feats = feats[feats['Importance']>0]\n",
        "    print(imp_feats.sort_values(by='Importance',ascending=False))\n",
        "  return"
      ],
      "metadata": {
        "id": "nwEUs3uw7cFN"
      },
      "execution_count": null,
      "outputs": []
    },
    {
      "cell_type": "code",
      "source": [
        "df = pd.read_csv('loan_dataset_final.csv', encoding='latin1')\n",
        "df.head()"
      ],
      "metadata": {
        "id": "ekw9fZhV7nUS",
        "colab": {
          "base_uri": "https://localhost:8080/",
          "height": 377
        },
        "outputId": "75ba0a61-6cd8-45a9-8ae0-ddfd52a760d2"
      },
      "execution_count": null,
      "outputs": [
        {
          "output_type": "execute_result",
          "data": {
            "text/plain": [
              "        id  member_id  loan_amnt  funded_amnt  funded_amnt_inv       term  \\\n",
              "0  1000007    1225615       5150         5150           5150.0  60 months   \n",
              "1  1000030    1225638      20000        20000          20000.0  36 months   \n",
              "2  1000033    1225642      12800        12800          12750.0  60 months   \n",
              "3  1000045    1225655      14000        14000          14000.0  60 months   \n",
              "4  1000067    1225680      15000        15000          14975.0  60 months   \n",
              "\n",
              "   installment                  emp_title emp_length home_ownership  ...  \\\n",
              "0       132.58  atlantic tomorrows office     1 year           RENT  ...   \n",
              "1       635.07       The Red Threads Inc.    6 years           RENT  ...   \n",
              "2       316.54           T-Mobile USA Inc    9 years       MORTGAGE  ...   \n",
              "3       349.98               Trader Joe's    9 years       MORTGAGE  ...   \n",
              "4       370.94      Truevance Engineering   < 1 year           RENT  ...   \n",
              "\n",
              "   collections_12_mths_ex_med pub_rec_bankruptcies interest_rate  \\\n",
              "0                         0.0                  1.0        0.1864   \n",
              "1                         0.0                  0.0        0.0890   \n",
              "2                         0.0                  0.0        0.1677   \n",
              "3                         0.0                  0.0        0.1727   \n",
              "4                         0.0                  0.0        0.1677   \n",
              "\n",
              "  revol_utilization number_bc_gt_75 fico_score       lti  \\\n",
              "0             0.873               2        709  0.147176   \n",
              "1             0.354               0        744  0.277778   \n",
              "2             0.754               0        719  0.156655   \n",
              "3             0.357               0        714  0.194444   \n",
              "4             0.369               0        709  0.208333   \n",
              "\n",
              "  month_since_oldest_tl         race_name  gender  \n",
              "0                 124.0             White  Female  \n",
              "1                 149.0  African American  Female  \n",
              "2                 176.0             White  Female  \n",
              "3                 140.0             White  Female  \n",
              "4                 136.0             White  Female  \n",
              "\n",
              "[5 rows x 47 columns]"
            ],
            "text/html": [
              "\n",
              "  <div id=\"df-5b52ab1a-03be-4fb3-a638-cf94166c6d2e\" class=\"colab-df-container\">\n",
              "    <div>\n",
              "<style scoped>\n",
              "    .dataframe tbody tr th:only-of-type {\n",
              "        vertical-align: middle;\n",
              "    }\n",
              "\n",
              "    .dataframe tbody tr th {\n",
              "        vertical-align: top;\n",
              "    }\n",
              "\n",
              "    .dataframe thead th {\n",
              "        text-align: right;\n",
              "    }\n",
              "</style>\n",
              "<table border=\"1\" class=\"dataframe\">\n",
              "  <thead>\n",
              "    <tr style=\"text-align: right;\">\n",
              "      <th></th>\n",
              "      <th>id</th>\n",
              "      <th>member_id</th>\n",
              "      <th>loan_amnt</th>\n",
              "      <th>funded_amnt</th>\n",
              "      <th>funded_amnt_inv</th>\n",
              "      <th>term</th>\n",
              "      <th>installment</th>\n",
              "      <th>emp_title</th>\n",
              "      <th>emp_length</th>\n",
              "      <th>home_ownership</th>\n",
              "      <th>...</th>\n",
              "      <th>collections_12_mths_ex_med</th>\n",
              "      <th>pub_rec_bankruptcies</th>\n",
              "      <th>interest_rate</th>\n",
              "      <th>revol_utilization</th>\n",
              "      <th>number_bc_gt_75</th>\n",
              "      <th>fico_score</th>\n",
              "      <th>lti</th>\n",
              "      <th>month_since_oldest_tl</th>\n",
              "      <th>race_name</th>\n",
              "      <th>gender</th>\n",
              "    </tr>\n",
              "  </thead>\n",
              "  <tbody>\n",
              "    <tr>\n",
              "      <th>0</th>\n",
              "      <td>1000007</td>\n",
              "      <td>1225615</td>\n",
              "      <td>5150</td>\n",
              "      <td>5150</td>\n",
              "      <td>5150.0</td>\n",
              "      <td>60 months</td>\n",
              "      <td>132.58</td>\n",
              "      <td>atlantic tomorrows office</td>\n",
              "      <td>1 year</td>\n",
              "      <td>RENT</td>\n",
              "      <td>...</td>\n",
              "      <td>0.0</td>\n",
              "      <td>1.0</td>\n",
              "      <td>0.1864</td>\n",
              "      <td>0.873</td>\n",
              "      <td>2</td>\n",
              "      <td>709</td>\n",
              "      <td>0.147176</td>\n",
              "      <td>124.0</td>\n",
              "      <td>White</td>\n",
              "      <td>Female</td>\n",
              "    </tr>\n",
              "    <tr>\n",
              "      <th>1</th>\n",
              "      <td>1000030</td>\n",
              "      <td>1225638</td>\n",
              "      <td>20000</td>\n",
              "      <td>20000</td>\n",
              "      <td>20000.0</td>\n",
              "      <td>36 months</td>\n",
              "      <td>635.07</td>\n",
              "      <td>The Red Threads Inc.</td>\n",
              "      <td>6 years</td>\n",
              "      <td>RENT</td>\n",
              "      <td>...</td>\n",
              "      <td>0.0</td>\n",
              "      <td>0.0</td>\n",
              "      <td>0.0890</td>\n",
              "      <td>0.354</td>\n",
              "      <td>0</td>\n",
              "      <td>744</td>\n",
              "      <td>0.277778</td>\n",
              "      <td>149.0</td>\n",
              "      <td>African American</td>\n",
              "      <td>Female</td>\n",
              "    </tr>\n",
              "    <tr>\n",
              "      <th>2</th>\n",
              "      <td>1000033</td>\n",
              "      <td>1225642</td>\n",
              "      <td>12800</td>\n",
              "      <td>12800</td>\n",
              "      <td>12750.0</td>\n",
              "      <td>60 months</td>\n",
              "      <td>316.54</td>\n",
              "      <td>T-Mobile USA Inc</td>\n",
              "      <td>9 years</td>\n",
              "      <td>MORTGAGE</td>\n",
              "      <td>...</td>\n",
              "      <td>0.0</td>\n",
              "      <td>0.0</td>\n",
              "      <td>0.1677</td>\n",
              "      <td>0.754</td>\n",
              "      <td>0</td>\n",
              "      <td>719</td>\n",
              "      <td>0.156655</td>\n",
              "      <td>176.0</td>\n",
              "      <td>White</td>\n",
              "      <td>Female</td>\n",
              "    </tr>\n",
              "    <tr>\n",
              "      <th>3</th>\n",
              "      <td>1000045</td>\n",
              "      <td>1225655</td>\n",
              "      <td>14000</td>\n",
              "      <td>14000</td>\n",
              "      <td>14000.0</td>\n",
              "      <td>60 months</td>\n",
              "      <td>349.98</td>\n",
              "      <td>Trader Joe's</td>\n",
              "      <td>9 years</td>\n",
              "      <td>MORTGAGE</td>\n",
              "      <td>...</td>\n",
              "      <td>0.0</td>\n",
              "      <td>0.0</td>\n",
              "      <td>0.1727</td>\n",
              "      <td>0.357</td>\n",
              "      <td>0</td>\n",
              "      <td>714</td>\n",
              "      <td>0.194444</td>\n",
              "      <td>140.0</td>\n",
              "      <td>White</td>\n",
              "      <td>Female</td>\n",
              "    </tr>\n",
              "    <tr>\n",
              "      <th>4</th>\n",
              "      <td>1000067</td>\n",
              "      <td>1225680</td>\n",
              "      <td>15000</td>\n",
              "      <td>15000</td>\n",
              "      <td>14975.0</td>\n",
              "      <td>60 months</td>\n",
              "      <td>370.94</td>\n",
              "      <td>Truevance Engineering</td>\n",
              "      <td>&lt; 1 year</td>\n",
              "      <td>RENT</td>\n",
              "      <td>...</td>\n",
              "      <td>0.0</td>\n",
              "      <td>0.0</td>\n",
              "      <td>0.1677</td>\n",
              "      <td>0.369</td>\n",
              "      <td>0</td>\n",
              "      <td>709</td>\n",
              "      <td>0.208333</td>\n",
              "      <td>136.0</td>\n",
              "      <td>White</td>\n",
              "      <td>Female</td>\n",
              "    </tr>\n",
              "  </tbody>\n",
              "</table>\n",
              "<p>5 rows × 47 columns</p>\n",
              "</div>\n",
              "    <div class=\"colab-df-buttons\">\n",
              "\n",
              "  <div class=\"colab-df-container\">\n",
              "    <button class=\"colab-df-convert\" onclick=\"convertToInteractive('df-5b52ab1a-03be-4fb3-a638-cf94166c6d2e')\"\n",
              "            title=\"Convert this dataframe to an interactive table.\"\n",
              "            style=\"display:none;\">\n",
              "\n",
              "  <svg xmlns=\"http://www.w3.org/2000/svg\" height=\"24px\" viewBox=\"0 -960 960 960\">\n",
              "    <path d=\"M120-120v-720h720v720H120Zm60-500h600v-160H180v160Zm220 220h160v-160H400v160Zm0 220h160v-160H400v160ZM180-400h160v-160H180v160Zm440 0h160v-160H620v160ZM180-180h160v-160H180v160Zm440 0h160v-160H620v160Z\"/>\n",
              "  </svg>\n",
              "    </button>\n",
              "\n",
              "  <style>\n",
              "    .colab-df-container {\n",
              "      display:flex;\n",
              "      gap: 12px;\n",
              "    }\n",
              "\n",
              "    .colab-df-convert {\n",
              "      background-color: #E8F0FE;\n",
              "      border: none;\n",
              "      border-radius: 50%;\n",
              "      cursor: pointer;\n",
              "      display: none;\n",
              "      fill: #1967D2;\n",
              "      height: 32px;\n",
              "      padding: 0 0 0 0;\n",
              "      width: 32px;\n",
              "    }\n",
              "\n",
              "    .colab-df-convert:hover {\n",
              "      background-color: #E2EBFA;\n",
              "      box-shadow: 0px 1px 2px rgba(60, 64, 67, 0.3), 0px 1px 3px 1px rgba(60, 64, 67, 0.15);\n",
              "      fill: #174EA6;\n",
              "    }\n",
              "\n",
              "    .colab-df-buttons div {\n",
              "      margin-bottom: 4px;\n",
              "    }\n",
              "\n",
              "    [theme=dark] .colab-df-convert {\n",
              "      background-color: #3B4455;\n",
              "      fill: #D2E3FC;\n",
              "    }\n",
              "\n",
              "    [theme=dark] .colab-df-convert:hover {\n",
              "      background-color: #434B5C;\n",
              "      box-shadow: 0px 1px 3px 1px rgba(0, 0, 0, 0.15);\n",
              "      filter: drop-shadow(0px 1px 2px rgba(0, 0, 0, 0.3));\n",
              "      fill: #FFFFFF;\n",
              "    }\n",
              "  </style>\n",
              "\n",
              "    <script>\n",
              "      const buttonEl =\n",
              "        document.querySelector('#df-5b52ab1a-03be-4fb3-a638-cf94166c6d2e button.colab-df-convert');\n",
              "      buttonEl.style.display =\n",
              "        google.colab.kernel.accessAllowed ? 'block' : 'none';\n",
              "\n",
              "      async function convertToInteractive(key) {\n",
              "        const element = document.querySelector('#df-5b52ab1a-03be-4fb3-a638-cf94166c6d2e');\n",
              "        const dataTable =\n",
              "          await google.colab.kernel.invokeFunction('convertToInteractive',\n",
              "                                                    [key], {});\n",
              "        if (!dataTable) return;\n",
              "\n",
              "        const docLinkHtml = 'Like what you see? Visit the ' +\n",
              "          '<a target=\"_blank\" href=https://colab.research.google.com/notebooks/data_table.ipynb>data table notebook</a>'\n",
              "          + ' to learn more about interactive tables.';\n",
              "        element.innerHTML = '';\n",
              "        dataTable['output_type'] = 'display_data';\n",
              "        await google.colab.output.renderOutput(dataTable, element);\n",
              "        const docLink = document.createElement('div');\n",
              "        docLink.innerHTML = docLinkHtml;\n",
              "        element.appendChild(docLink);\n",
              "      }\n",
              "    </script>\n",
              "  </div>\n",
              "\n",
              "\n",
              "<div id=\"df-b95c46d7-c74e-4157-91ef-29408dc6a9b2\">\n",
              "  <button class=\"colab-df-quickchart\" onclick=\"quickchart('df-b95c46d7-c74e-4157-91ef-29408dc6a9b2')\"\n",
              "            title=\"Suggest charts\"\n",
              "            style=\"display:none;\">\n",
              "\n",
              "<svg xmlns=\"http://www.w3.org/2000/svg\" height=\"24px\"viewBox=\"0 0 24 24\"\n",
              "     width=\"24px\">\n",
              "    <g>\n",
              "        <path d=\"M19 3H5c-1.1 0-2 .9-2 2v14c0 1.1.9 2 2 2h14c1.1 0 2-.9 2-2V5c0-1.1-.9-2-2-2zM9 17H7v-7h2v7zm4 0h-2V7h2v10zm4 0h-2v-4h2v4z\"/>\n",
              "    </g>\n",
              "</svg>\n",
              "  </button>\n",
              "\n",
              "<style>\n",
              "  .colab-df-quickchart {\n",
              "      --bg-color: #E8F0FE;\n",
              "      --fill-color: #1967D2;\n",
              "      --hover-bg-color: #E2EBFA;\n",
              "      --hover-fill-color: #174EA6;\n",
              "      --disabled-fill-color: #AAA;\n",
              "      --disabled-bg-color: #DDD;\n",
              "  }\n",
              "\n",
              "  [theme=dark] .colab-df-quickchart {\n",
              "      --bg-color: #3B4455;\n",
              "      --fill-color: #D2E3FC;\n",
              "      --hover-bg-color: #434B5C;\n",
              "      --hover-fill-color: #FFFFFF;\n",
              "      --disabled-bg-color: #3B4455;\n",
              "      --disabled-fill-color: #666;\n",
              "  }\n",
              "\n",
              "  .colab-df-quickchart {\n",
              "    background-color: var(--bg-color);\n",
              "    border: none;\n",
              "    border-radius: 50%;\n",
              "    cursor: pointer;\n",
              "    display: none;\n",
              "    fill: var(--fill-color);\n",
              "    height: 32px;\n",
              "    padding: 0;\n",
              "    width: 32px;\n",
              "  }\n",
              "\n",
              "  .colab-df-quickchart:hover {\n",
              "    background-color: var(--hover-bg-color);\n",
              "    box-shadow: 0 1px 2px rgba(60, 64, 67, 0.3), 0 1px 3px 1px rgba(60, 64, 67, 0.15);\n",
              "    fill: var(--button-hover-fill-color);\n",
              "  }\n",
              "\n",
              "  .colab-df-quickchart-complete:disabled,\n",
              "  .colab-df-quickchart-complete:disabled:hover {\n",
              "    background-color: var(--disabled-bg-color);\n",
              "    fill: var(--disabled-fill-color);\n",
              "    box-shadow: none;\n",
              "  }\n",
              "\n",
              "  .colab-df-spinner {\n",
              "    border: 2px solid var(--fill-color);\n",
              "    border-color: transparent;\n",
              "    border-bottom-color: var(--fill-color);\n",
              "    animation:\n",
              "      spin 1s steps(1) infinite;\n",
              "  }\n",
              "\n",
              "  @keyframes spin {\n",
              "    0% {\n",
              "      border-color: transparent;\n",
              "      border-bottom-color: var(--fill-color);\n",
              "      border-left-color: var(--fill-color);\n",
              "    }\n",
              "    20% {\n",
              "      border-color: transparent;\n",
              "      border-left-color: var(--fill-color);\n",
              "      border-top-color: var(--fill-color);\n",
              "    }\n",
              "    30% {\n",
              "      border-color: transparent;\n",
              "      border-left-color: var(--fill-color);\n",
              "      border-top-color: var(--fill-color);\n",
              "      border-right-color: var(--fill-color);\n",
              "    }\n",
              "    40% {\n",
              "      border-color: transparent;\n",
              "      border-right-color: var(--fill-color);\n",
              "      border-top-color: var(--fill-color);\n",
              "    }\n",
              "    60% {\n",
              "      border-color: transparent;\n",
              "      border-right-color: var(--fill-color);\n",
              "    }\n",
              "    80% {\n",
              "      border-color: transparent;\n",
              "      border-right-color: var(--fill-color);\n",
              "      border-bottom-color: var(--fill-color);\n",
              "    }\n",
              "    90% {\n",
              "      border-color: transparent;\n",
              "      border-bottom-color: var(--fill-color);\n",
              "    }\n",
              "  }\n",
              "</style>\n",
              "\n",
              "  <script>\n",
              "    async function quickchart(key) {\n",
              "      const quickchartButtonEl =\n",
              "        document.querySelector('#' + key + ' button');\n",
              "      quickchartButtonEl.disabled = true;  // To prevent multiple clicks.\n",
              "      quickchartButtonEl.classList.add('colab-df-spinner');\n",
              "      try {\n",
              "        const charts = await google.colab.kernel.invokeFunction(\n",
              "            'suggestCharts', [key], {});\n",
              "      } catch (error) {\n",
              "        console.error('Error during call to suggestCharts:', error);\n",
              "      }\n",
              "      quickchartButtonEl.classList.remove('colab-df-spinner');\n",
              "      quickchartButtonEl.classList.add('colab-df-quickchart-complete');\n",
              "    }\n",
              "    (() => {\n",
              "      let quickchartButtonEl =\n",
              "        document.querySelector('#df-b95c46d7-c74e-4157-91ef-29408dc6a9b2 button');\n",
              "      quickchartButtonEl.style.display =\n",
              "        google.colab.kernel.accessAllowed ? 'block' : 'none';\n",
              "    })();\n",
              "  </script>\n",
              "</div>\n",
              "\n",
              "    </div>\n",
              "  </div>\n"
            ],
            "application/vnd.google.colaboratory.intrinsic+json": {
              "type": "dataframe",
              "variable_name": "df"
            }
          },
          "metadata": {},
          "execution_count": 122
        }
      ]
    },
    {
      "cell_type": "code",
      "source": [
        "df['loan_status'].value_counts()"
      ],
      "metadata": {
        "id": "SWHgeJFkcOrR",
        "colab": {
          "base_uri": "https://localhost:8080/"
        },
        "outputId": "3ab27c9d-e72f-45a8-8d14-3006a61850e6"
      },
      "execution_count": null,
      "outputs": [
        {
          "output_type": "execute_result",
          "data": {
            "text/plain": [
              "loan_status\n",
              "Fully Paid                                             33586\n",
              "Charged Off                                             5653\n",
              "Does not meet the credit policy. Status:Fully Paid      1988\n",
              "Does not meet the credit policy. Status:Charged Off      761\n",
              "Current                                                  513\n",
              "In Grace Period                                           16\n",
              "Late (31-120 days)                                        12\n",
              "Late (16-30 days)                                          5\n",
              "Default                                                    1\n",
              "Name: count, dtype: int64"
            ]
          },
          "metadata": {},
          "execution_count": 123
        }
      ]
    },
    {
      "cell_type": "markdown",
      "source": [
        "## Adding target column\n",
        "\n",
        "From the previous booked account setting approve loan if loan status is 'Fully Paid', 'Current' or 'Does not meet the credit policy. Status:Fully Paid' to train the model accordingly"
      ],
      "metadata": {
        "id": "5T_rd2hZct5h"
      }
    },
    {
      "cell_type": "code",
      "source": [
        "condition= df['loan_status'].isin(['Fully Paid','Current','Does not meet the credit policy. Status:Fully Paid'])\n",
        "df['target']=condition.astype(int)\n",
        "#If target is 1 then approve loan else decline\n",
        "df.head()"
      ],
      "metadata": {
        "id": "w53VvF7FcwvU",
        "colab": {
          "base_uri": "https://localhost:8080/",
          "height": 377
        },
        "outputId": "6dd1be5b-f9cd-4249-a8c6-f3199eb739c4"
      },
      "execution_count": null,
      "outputs": [
        {
          "output_type": "execute_result",
          "data": {
            "text/plain": [
              "        id  member_id  loan_amnt  funded_amnt  funded_amnt_inv       term  \\\n",
              "0  1000007    1225615       5150         5150           5150.0  60 months   \n",
              "1  1000030    1225638      20000        20000          20000.0  36 months   \n",
              "2  1000033    1225642      12800        12800          12750.0  60 months   \n",
              "3  1000045    1225655      14000        14000          14000.0  60 months   \n",
              "4  1000067    1225680      15000        15000          14975.0  60 months   \n",
              "\n",
              "   installment                  emp_title emp_length home_ownership  ...  \\\n",
              "0       132.58  atlantic tomorrows office     1 year           RENT  ...   \n",
              "1       635.07       The Red Threads Inc.    6 years           RENT  ...   \n",
              "2       316.54           T-Mobile USA Inc    9 years       MORTGAGE  ...   \n",
              "3       349.98               Trader Joe's    9 years       MORTGAGE  ...   \n",
              "4       370.94      Truevance Engineering   < 1 year           RENT  ...   \n",
              "\n",
              "   pub_rec_bankruptcies interest_rate revol_utilization number_bc_gt_75  \\\n",
              "0                   1.0        0.1864             0.873               2   \n",
              "1                   0.0        0.0890             0.354               0   \n",
              "2                   0.0        0.1677             0.754               0   \n",
              "3                   0.0        0.1727             0.357               0   \n",
              "4                   0.0        0.1677             0.369               0   \n",
              "\n",
              "  fico_score       lti month_since_oldest_tl         race_name  gender  target  \n",
              "0        709  0.147176                 124.0             White  Female       1  \n",
              "1        744  0.277778                 149.0  African American  Female       1  \n",
              "2        719  0.156655                 176.0             White  Female       1  \n",
              "3        714  0.194444                 140.0             White  Female       1  \n",
              "4        709  0.208333                 136.0             White  Female       1  \n",
              "\n",
              "[5 rows x 48 columns]"
            ],
            "text/html": [
              "\n",
              "  <div id=\"df-b89e1ce4-2350-4441-b498-fccdf68758fb\" class=\"colab-df-container\">\n",
              "    <div>\n",
              "<style scoped>\n",
              "    .dataframe tbody tr th:only-of-type {\n",
              "        vertical-align: middle;\n",
              "    }\n",
              "\n",
              "    .dataframe tbody tr th {\n",
              "        vertical-align: top;\n",
              "    }\n",
              "\n",
              "    .dataframe thead th {\n",
              "        text-align: right;\n",
              "    }\n",
              "</style>\n",
              "<table border=\"1\" class=\"dataframe\">\n",
              "  <thead>\n",
              "    <tr style=\"text-align: right;\">\n",
              "      <th></th>\n",
              "      <th>id</th>\n",
              "      <th>member_id</th>\n",
              "      <th>loan_amnt</th>\n",
              "      <th>funded_amnt</th>\n",
              "      <th>funded_amnt_inv</th>\n",
              "      <th>term</th>\n",
              "      <th>installment</th>\n",
              "      <th>emp_title</th>\n",
              "      <th>emp_length</th>\n",
              "      <th>home_ownership</th>\n",
              "      <th>...</th>\n",
              "      <th>pub_rec_bankruptcies</th>\n",
              "      <th>interest_rate</th>\n",
              "      <th>revol_utilization</th>\n",
              "      <th>number_bc_gt_75</th>\n",
              "      <th>fico_score</th>\n",
              "      <th>lti</th>\n",
              "      <th>month_since_oldest_tl</th>\n",
              "      <th>race_name</th>\n",
              "      <th>gender</th>\n",
              "      <th>target</th>\n",
              "    </tr>\n",
              "  </thead>\n",
              "  <tbody>\n",
              "    <tr>\n",
              "      <th>0</th>\n",
              "      <td>1000007</td>\n",
              "      <td>1225615</td>\n",
              "      <td>5150</td>\n",
              "      <td>5150</td>\n",
              "      <td>5150.0</td>\n",
              "      <td>60 months</td>\n",
              "      <td>132.58</td>\n",
              "      <td>atlantic tomorrows office</td>\n",
              "      <td>1 year</td>\n",
              "      <td>RENT</td>\n",
              "      <td>...</td>\n",
              "      <td>1.0</td>\n",
              "      <td>0.1864</td>\n",
              "      <td>0.873</td>\n",
              "      <td>2</td>\n",
              "      <td>709</td>\n",
              "      <td>0.147176</td>\n",
              "      <td>124.0</td>\n",
              "      <td>White</td>\n",
              "      <td>Female</td>\n",
              "      <td>1</td>\n",
              "    </tr>\n",
              "    <tr>\n",
              "      <th>1</th>\n",
              "      <td>1000030</td>\n",
              "      <td>1225638</td>\n",
              "      <td>20000</td>\n",
              "      <td>20000</td>\n",
              "      <td>20000.0</td>\n",
              "      <td>36 months</td>\n",
              "      <td>635.07</td>\n",
              "      <td>The Red Threads Inc.</td>\n",
              "      <td>6 years</td>\n",
              "      <td>RENT</td>\n",
              "      <td>...</td>\n",
              "      <td>0.0</td>\n",
              "      <td>0.0890</td>\n",
              "      <td>0.354</td>\n",
              "      <td>0</td>\n",
              "      <td>744</td>\n",
              "      <td>0.277778</td>\n",
              "      <td>149.0</td>\n",
              "      <td>African American</td>\n",
              "      <td>Female</td>\n",
              "      <td>1</td>\n",
              "    </tr>\n",
              "    <tr>\n",
              "      <th>2</th>\n",
              "      <td>1000033</td>\n",
              "      <td>1225642</td>\n",
              "      <td>12800</td>\n",
              "      <td>12800</td>\n",
              "      <td>12750.0</td>\n",
              "      <td>60 months</td>\n",
              "      <td>316.54</td>\n",
              "      <td>T-Mobile USA Inc</td>\n",
              "      <td>9 years</td>\n",
              "      <td>MORTGAGE</td>\n",
              "      <td>...</td>\n",
              "      <td>0.0</td>\n",
              "      <td>0.1677</td>\n",
              "      <td>0.754</td>\n",
              "      <td>0</td>\n",
              "      <td>719</td>\n",
              "      <td>0.156655</td>\n",
              "      <td>176.0</td>\n",
              "      <td>White</td>\n",
              "      <td>Female</td>\n",
              "      <td>1</td>\n",
              "    </tr>\n",
              "    <tr>\n",
              "      <th>3</th>\n",
              "      <td>1000045</td>\n",
              "      <td>1225655</td>\n",
              "      <td>14000</td>\n",
              "      <td>14000</td>\n",
              "      <td>14000.0</td>\n",
              "      <td>60 months</td>\n",
              "      <td>349.98</td>\n",
              "      <td>Trader Joe's</td>\n",
              "      <td>9 years</td>\n",
              "      <td>MORTGAGE</td>\n",
              "      <td>...</td>\n",
              "      <td>0.0</td>\n",
              "      <td>0.1727</td>\n",
              "      <td>0.357</td>\n",
              "      <td>0</td>\n",
              "      <td>714</td>\n",
              "      <td>0.194444</td>\n",
              "      <td>140.0</td>\n",
              "      <td>White</td>\n",
              "      <td>Female</td>\n",
              "      <td>1</td>\n",
              "    </tr>\n",
              "    <tr>\n",
              "      <th>4</th>\n",
              "      <td>1000067</td>\n",
              "      <td>1225680</td>\n",
              "      <td>15000</td>\n",
              "      <td>15000</td>\n",
              "      <td>14975.0</td>\n",
              "      <td>60 months</td>\n",
              "      <td>370.94</td>\n",
              "      <td>Truevance Engineering</td>\n",
              "      <td>&lt; 1 year</td>\n",
              "      <td>RENT</td>\n",
              "      <td>...</td>\n",
              "      <td>0.0</td>\n",
              "      <td>0.1677</td>\n",
              "      <td>0.369</td>\n",
              "      <td>0</td>\n",
              "      <td>709</td>\n",
              "      <td>0.208333</td>\n",
              "      <td>136.0</td>\n",
              "      <td>White</td>\n",
              "      <td>Female</td>\n",
              "      <td>1</td>\n",
              "    </tr>\n",
              "  </tbody>\n",
              "</table>\n",
              "<p>5 rows × 48 columns</p>\n",
              "</div>\n",
              "    <div class=\"colab-df-buttons\">\n",
              "\n",
              "  <div class=\"colab-df-container\">\n",
              "    <button class=\"colab-df-convert\" onclick=\"convertToInteractive('df-b89e1ce4-2350-4441-b498-fccdf68758fb')\"\n",
              "            title=\"Convert this dataframe to an interactive table.\"\n",
              "            style=\"display:none;\">\n",
              "\n",
              "  <svg xmlns=\"http://www.w3.org/2000/svg\" height=\"24px\" viewBox=\"0 -960 960 960\">\n",
              "    <path d=\"M120-120v-720h720v720H120Zm60-500h600v-160H180v160Zm220 220h160v-160H400v160Zm0 220h160v-160H400v160ZM180-400h160v-160H180v160Zm440 0h160v-160H620v160ZM180-180h160v-160H180v160Zm440 0h160v-160H620v160Z\"/>\n",
              "  </svg>\n",
              "    </button>\n",
              "\n",
              "  <style>\n",
              "    .colab-df-container {\n",
              "      display:flex;\n",
              "      gap: 12px;\n",
              "    }\n",
              "\n",
              "    .colab-df-convert {\n",
              "      background-color: #E8F0FE;\n",
              "      border: none;\n",
              "      border-radius: 50%;\n",
              "      cursor: pointer;\n",
              "      display: none;\n",
              "      fill: #1967D2;\n",
              "      height: 32px;\n",
              "      padding: 0 0 0 0;\n",
              "      width: 32px;\n",
              "    }\n",
              "\n",
              "    .colab-df-convert:hover {\n",
              "      background-color: #E2EBFA;\n",
              "      box-shadow: 0px 1px 2px rgba(60, 64, 67, 0.3), 0px 1px 3px 1px rgba(60, 64, 67, 0.15);\n",
              "      fill: #174EA6;\n",
              "    }\n",
              "\n",
              "    .colab-df-buttons div {\n",
              "      margin-bottom: 4px;\n",
              "    }\n",
              "\n",
              "    [theme=dark] .colab-df-convert {\n",
              "      background-color: #3B4455;\n",
              "      fill: #D2E3FC;\n",
              "    }\n",
              "\n",
              "    [theme=dark] .colab-df-convert:hover {\n",
              "      background-color: #434B5C;\n",
              "      box-shadow: 0px 1px 3px 1px rgba(0, 0, 0, 0.15);\n",
              "      filter: drop-shadow(0px 1px 2px rgba(0, 0, 0, 0.3));\n",
              "      fill: #FFFFFF;\n",
              "    }\n",
              "  </style>\n",
              "\n",
              "    <script>\n",
              "      const buttonEl =\n",
              "        document.querySelector('#df-b89e1ce4-2350-4441-b498-fccdf68758fb button.colab-df-convert');\n",
              "      buttonEl.style.display =\n",
              "        google.colab.kernel.accessAllowed ? 'block' : 'none';\n",
              "\n",
              "      async function convertToInteractive(key) {\n",
              "        const element = document.querySelector('#df-b89e1ce4-2350-4441-b498-fccdf68758fb');\n",
              "        const dataTable =\n",
              "          await google.colab.kernel.invokeFunction('convertToInteractive',\n",
              "                                                    [key], {});\n",
              "        if (!dataTable) return;\n",
              "\n",
              "        const docLinkHtml = 'Like what you see? Visit the ' +\n",
              "          '<a target=\"_blank\" href=https://colab.research.google.com/notebooks/data_table.ipynb>data table notebook</a>'\n",
              "          + ' to learn more about interactive tables.';\n",
              "        element.innerHTML = '';\n",
              "        dataTable['output_type'] = 'display_data';\n",
              "        await google.colab.output.renderOutput(dataTable, element);\n",
              "        const docLink = document.createElement('div');\n",
              "        docLink.innerHTML = docLinkHtml;\n",
              "        element.appendChild(docLink);\n",
              "      }\n",
              "    </script>\n",
              "  </div>\n",
              "\n",
              "\n",
              "<div id=\"df-b8b39748-97bf-42d1-853a-096db48cb4e0\">\n",
              "  <button class=\"colab-df-quickchart\" onclick=\"quickchart('df-b8b39748-97bf-42d1-853a-096db48cb4e0')\"\n",
              "            title=\"Suggest charts\"\n",
              "            style=\"display:none;\">\n",
              "\n",
              "<svg xmlns=\"http://www.w3.org/2000/svg\" height=\"24px\"viewBox=\"0 0 24 24\"\n",
              "     width=\"24px\">\n",
              "    <g>\n",
              "        <path d=\"M19 3H5c-1.1 0-2 .9-2 2v14c0 1.1.9 2 2 2h14c1.1 0 2-.9 2-2V5c0-1.1-.9-2-2-2zM9 17H7v-7h2v7zm4 0h-2V7h2v10zm4 0h-2v-4h2v4z\"/>\n",
              "    </g>\n",
              "</svg>\n",
              "  </button>\n",
              "\n",
              "<style>\n",
              "  .colab-df-quickchart {\n",
              "      --bg-color: #E8F0FE;\n",
              "      --fill-color: #1967D2;\n",
              "      --hover-bg-color: #E2EBFA;\n",
              "      --hover-fill-color: #174EA6;\n",
              "      --disabled-fill-color: #AAA;\n",
              "      --disabled-bg-color: #DDD;\n",
              "  }\n",
              "\n",
              "  [theme=dark] .colab-df-quickchart {\n",
              "      --bg-color: #3B4455;\n",
              "      --fill-color: #D2E3FC;\n",
              "      --hover-bg-color: #434B5C;\n",
              "      --hover-fill-color: #FFFFFF;\n",
              "      --disabled-bg-color: #3B4455;\n",
              "      --disabled-fill-color: #666;\n",
              "  }\n",
              "\n",
              "  .colab-df-quickchart {\n",
              "    background-color: var(--bg-color);\n",
              "    border: none;\n",
              "    border-radius: 50%;\n",
              "    cursor: pointer;\n",
              "    display: none;\n",
              "    fill: var(--fill-color);\n",
              "    height: 32px;\n",
              "    padding: 0;\n",
              "    width: 32px;\n",
              "  }\n",
              "\n",
              "  .colab-df-quickchart:hover {\n",
              "    background-color: var(--hover-bg-color);\n",
              "    box-shadow: 0 1px 2px rgba(60, 64, 67, 0.3), 0 1px 3px 1px rgba(60, 64, 67, 0.15);\n",
              "    fill: var(--button-hover-fill-color);\n",
              "  }\n",
              "\n",
              "  .colab-df-quickchart-complete:disabled,\n",
              "  .colab-df-quickchart-complete:disabled:hover {\n",
              "    background-color: var(--disabled-bg-color);\n",
              "    fill: var(--disabled-fill-color);\n",
              "    box-shadow: none;\n",
              "  }\n",
              "\n",
              "  .colab-df-spinner {\n",
              "    border: 2px solid var(--fill-color);\n",
              "    border-color: transparent;\n",
              "    border-bottom-color: var(--fill-color);\n",
              "    animation:\n",
              "      spin 1s steps(1) infinite;\n",
              "  }\n",
              "\n",
              "  @keyframes spin {\n",
              "    0% {\n",
              "      border-color: transparent;\n",
              "      border-bottom-color: var(--fill-color);\n",
              "      border-left-color: var(--fill-color);\n",
              "    }\n",
              "    20% {\n",
              "      border-color: transparent;\n",
              "      border-left-color: var(--fill-color);\n",
              "      border-top-color: var(--fill-color);\n",
              "    }\n",
              "    30% {\n",
              "      border-color: transparent;\n",
              "      border-left-color: var(--fill-color);\n",
              "      border-top-color: var(--fill-color);\n",
              "      border-right-color: var(--fill-color);\n",
              "    }\n",
              "    40% {\n",
              "      border-color: transparent;\n",
              "      border-right-color: var(--fill-color);\n",
              "      border-top-color: var(--fill-color);\n",
              "    }\n",
              "    60% {\n",
              "      border-color: transparent;\n",
              "      border-right-color: var(--fill-color);\n",
              "    }\n",
              "    80% {\n",
              "      border-color: transparent;\n",
              "      border-right-color: var(--fill-color);\n",
              "      border-bottom-color: var(--fill-color);\n",
              "    }\n",
              "    90% {\n",
              "      border-color: transparent;\n",
              "      border-bottom-color: var(--fill-color);\n",
              "    }\n",
              "  }\n",
              "</style>\n",
              "\n",
              "  <script>\n",
              "    async function quickchart(key) {\n",
              "      const quickchartButtonEl =\n",
              "        document.querySelector('#' + key + ' button');\n",
              "      quickchartButtonEl.disabled = true;  // To prevent multiple clicks.\n",
              "      quickchartButtonEl.classList.add('colab-df-spinner');\n",
              "      try {\n",
              "        const charts = await google.colab.kernel.invokeFunction(\n",
              "            'suggestCharts', [key], {});\n",
              "      } catch (error) {\n",
              "        console.error('Error during call to suggestCharts:', error);\n",
              "      }\n",
              "      quickchartButtonEl.classList.remove('colab-df-spinner');\n",
              "      quickchartButtonEl.classList.add('colab-df-quickchart-complete');\n",
              "    }\n",
              "    (() => {\n",
              "      let quickchartButtonEl =\n",
              "        document.querySelector('#df-b8b39748-97bf-42d1-853a-096db48cb4e0 button');\n",
              "      quickchartButtonEl.style.display =\n",
              "        google.colab.kernel.accessAllowed ? 'block' : 'none';\n",
              "    })();\n",
              "  </script>\n",
              "</div>\n",
              "\n",
              "    </div>\n",
              "  </div>\n"
            ],
            "application/vnd.google.colaboratory.intrinsic+json": {
              "type": "dataframe",
              "variable_name": "df"
            }
          },
          "metadata": {},
          "execution_count": 124
        }
      ]
    },
    {
      "cell_type": "code",
      "source": [
        "df.isna().sum()"
      ],
      "metadata": {
        "id": "ZsmR2P8-cCwL",
        "colab": {
          "base_uri": "https://localhost:8080/"
        },
        "outputId": "9cf121e3-6808-4616-db01-88d0c1830681"
      },
      "execution_count": null,
      "outputs": [
        {
          "output_type": "execute_result",
          "data": {
            "text/plain": [
              "id                                0\n",
              "member_id                         0\n",
              "loan_amnt                         0\n",
              "funded_amnt                       0\n",
              "funded_amnt_inv                   0\n",
              "term                              0\n",
              "installment                       0\n",
              "emp_title                      2626\n",
              "emp_length                     1112\n",
              "home_ownership                    0\n",
              "annual_inc                        4\n",
              "verification_status               0\n",
              "issue_d                           0\n",
              "loan_status                       0\n",
              "pymnt_plan                        0\n",
              "desc                          13521\n",
              "purpose                           0\n",
              "title                            13\n",
              "addr_state                        0\n",
              "dti                               0\n",
              "delinq_2yrs                      29\n",
              "inq_last_6mths                   29\n",
              "mths_since_last_delinq        26926\n",
              "mths_since_last_record        38884\n",
              "open_acc                         29\n",
              "pub_rec                          29\n",
              "revol_bal                         0\n",
              "total_acc                        29\n",
              "out_prncp                         0\n",
              "out_prncp_inv                     0\n",
              "total_pymnt                       0\n",
              "total_pymnt_inv                   0\n",
              "total_rec_prncp                   0\n",
              "total_rec_int                     0\n",
              "total_rec_late_fee                0\n",
              "recoveries                        0\n",
              "collection_recovery_fee           0\n",
              "collections_12_mths_ex_med      145\n",
              "pub_rec_bankruptcies           1365\n",
              "interest_rate                     0\n",
              "revol_utilization                90\n",
              "number_bc_gt_75                   0\n",
              "fico_score                        0\n",
              "lti                               4\n",
              "month_since_oldest_tl            29\n",
              "race_name                         0\n",
              "gender                            0\n",
              "target                            0\n",
              "dtype: int64"
            ]
          },
          "metadata": {},
          "execution_count": 125
        }
      ]
    },
    {
      "cell_type": "code",
      "source": [
        "#replace emp length with numbers\n",
        "replacement_mapping = {'< 1 year':0,'1 year':1, '2 years':2, '3 years':3, '4 years':4,\n",
        "                       '5 years':5, '6 years':6, '7 years':7, '8 years':8, '9 years':9, '10 years':10,'10+ years':10}\n",
        "df['emp_length'] = df['emp_length'].replace(replacement_mapping)\n",
        "#replace term length with numbers\n",
        "replacement_mapping2 = {'60 months':60,'36 months':36}\n",
        "df['term'] = df['term'].replace(replacement_mapping2)"
      ],
      "metadata": {
        "id": "AA5W2h3XWz9y"
      },
      "execution_count": null,
      "outputs": []
    },
    {
      "cell_type": "code",
      "source": [
        "for col in df.columns:\n",
        "    print(f'{col} : {df[col].unique()}')\n",
        "    if pd.api.types.is_numeric_dtype(df[col]):\n",
        "        c=df[col].dropna();\n",
        "        sns.boxplot(data=df, x=c)\n",
        "        plt.show()"
      ],
      "metadata": {
        "id": "hVFUHVfQP4em",
        "colab": {
          "base_uri": "https://localhost:8080/",
          "height": 1000
        },
        "outputId": "befb1225-342e-4668-ef13-4f33d12ecb92"
      },
      "execution_count": null,
      "outputs": [
        {
          "output_type": "stream",
          "name": "stdout",
          "text": [
            "id : [1000007 1000030 1000033 ...  999634  999763  999816]\n"
          ]
        },
        {
          "output_type": "display_data",
          "data": {
            "text/plain": [
              "<Figure size 640x480 with 1 Axes>"
            ],
            "image/png": "[encoded data removed]"
          },
          "metadata": {}
        },
        {
          "output_type": "stream",
          "name": "stdout",
          "text": [
            "member_id : [1225615 1225638 1225642 ... 1225015 1225141 1225200]\n"
          ]
        },
        {
          "output_type": "display_data",
          "data": {
            "text/plain": [
              "<Figure size 640x480 with 1 Axes>"
            ],
            "image/png": "[encoded data removed]"
          },
          "metadata": {}
        },
        {
          "output_type": "stream",
          "name": "stdout",
          "text": [
            "loan_amnt : [ 5150 20000 12800 14000 15000 12000 30000  2800  2700  6600  7500 24000\n",
            "  7000 21000 11200 10000 28000 13700  6000  9000  3000  9400 14800  3125\n",
            "  2200 25000  3500 12300  8000 16000  1200 23100  1000  2500  4200  4000\n",
            " 13000  5000  9750 16500 27000 14400 10400 11400  4800 17500  2550  5500\n",
            " 22000  2400 35000  3775 16800  5600 18200 32250 18000  1500  4500  4100\n",
            " 31300 21600  2000 12175 20900 19850 29850 17000  1925  7800 11250  8400\n",
            "  6400  3200  1450 11000  8975 19000  5850 26375 11975  9525 13200  3100\n",
            " 31000 27600  3600  7450 23525  7575  9300 17175  1300 10375 13600 23000\n",
            "  3800  4625  7600 12600  2100  2750  8500 12475  5200 15125 10800  5400\n",
            " 10200  6500  9600  7200  4750 18750  4550 17600 27575 14125 17725  2600\n",
            " 15350 14950  6250  4400  5800 11500  9475  3300  9975  2850 14075  4600\n",
            "  5225 14500  5375  9500  5750 24400 22400 34000  9250  6725 12075  6700\n",
            " 17900 16750 24625 18825  4900  3250  5250 21250 12375 12250  8675 15600\n",
            "  6625  4850 10625 12400  9200 18400 22800 21100 12875 27525  9325 31825\n",
            "  1800  6200  6300  2300  8875 23200  6075 11050  9450 11325 25600  5300\n",
            " 21500  8300  4350  9375  6650 12500  5825 16950  7400  5875  3650 20375\n",
            " 23500 17200  6550 24800 27250  7750 29000  4950  6800  8650 10925 17100\n",
            "  4725 29275 15750 20800  7125  1950  6450  1600  3700 30500 32000 17325\n",
            " 17400 14600 10675 13500 10775  4150 14300  5325 20400 11425 25200  3400\n",
            "  3525 32275 26400  2250  8800 20500 11300  5700 19200  4475  1400  5100\n",
            "  3175 15575 10500 17050  8600 14750 10175  7925 17475 10600 15850 29700\n",
            " 10900 12100 11100  3825  4025 14550  4375 15500 23800 25900  3725  6325\n",
            " 13475 25975 13225 16775 19075  6475  2125 18950 16100  4250 10125 28100\n",
            " 12700 33950 16450  5650 19800 10250 16550 33600 30750  7875 15800 23600\n",
            " 29100 23325 11600 14675 22200 18800 19600 24250  6975 13350 12775 11550\n",
            " 10150 10075 17625  7100  6925 16600 12900 25450  5575 27050 19125  4125\n",
            " 11125 22500 13800  8375 11625 21575  8200  9800  8575 21625 12650 16675\n",
            " 14850 25475 18500  7700  8325 15550  8125  9425 18650  6100  4650 22950\n",
            " 28625  1250 27700  3625 17375 28200 21200  3050 23700 17250  3575 15250\n",
            "  3975  6350  8250  9925  1325 29500  4300 13150 14650  5450 22575 18975\n",
            " 27300 14150 13250  6025 20250  6900 14100 19500 12950 18250 21650 16400\n",
            " 25850 11900 11700 19400  9175  5275 13650 24500 20125  6950  2425  8450\n",
            "  8075  9350 11775 15625 18225 20675 26000  6750  5900 22750  7150 14575\n",
            " 19775 20050 24925 22475  7300 10700 15900 21400  9575 18550  3150 22250\n",
            " 10525 14050  2625 26800  9900  8850 15700  9875  7350  4225  7325  6375\n",
            "  7250 15300 11800 16425 20975 17675 16225  8950 12750 14700 12125 10475\n",
            "   500  2050  2825  2525  8275  3025  4275  3275  8150  9950 22350  6225\n",
            "  6825  4925  9850 13925 19650   850  2450 19950  9700   600 24750  2975\n",
            " 17950   800 22550 15450  1350  2675  7850   700  1675  8175 13025  1075\n",
            "  8775 17350  1850 18900 11750 13525 11225 18875   550 14725 12325 10100\n",
            "  5950  8050  8225 13450 18125 23400  2900 17750  9100  2725 15075   750\n",
            " 14275   900  2925  4700 12200   950 20825  6150  8350 23575   725  4075\n",
            "  9125  5125  5075  1825  7225  1750  6275  2875  1775  4775 15975  3900\n",
            "  8750 24950 13750 17525 20475 10750  7375 23750  7475  1150  1525  1875\n",
            "  3750  6575  3350 11650  7675  3550  8700  6850  5550 11850 10725 19750\n",
            " 14900  2775 12450 15200 14250 20200  4575  4975  2150  4325  1700  9150\n",
            "  4450 23475  1900  3450  2650 10650 21125  7775 13850  3375 15950  8725\n",
            " 13300  6125 17800  6775  7550  5175 13900 14200  2375 13950  2275 13075\n",
            " 13050 13400  3425 24150  3075  7725 24200 18600 17925 15175  7900 15400\n",
            " 20600  8900 22600 24100  8525 10450  4175 16525 23450  1275  5050 10550\n",
            "  5525 20150  8550  6525  8100  1100 16250 13125  2575 21825 16200  8825\n",
            " 11175 12350 10850 13100  2950 23050 13550 12225  4050 11350 10950  2325\n",
            " 11875 11675  9050 16075  5675  9275 10875  3850  4525  5975 12275  9225\n",
            "  1550 17450  2075 16700  2350  6875  1050 20700  2225 11450  5025 12025\n",
            " 15325  9775  1125 17150 12975 12150  6425 12925 16300  7050  7275 11475\n",
            " 24600 17275 15675  5775  5625  7425  3950  2475  6675  3225  7625  1375\n",
            "  8475 14875 16875 23075 22650 12675  1475 19875 17425 15150  9625 18050\n",
            " 16725 16050 18150 33000 12825 24975 10975 25375  4675 14825 10575 13375\n",
            " 14625 21850  7025 27500 15875 31050 30800 22100 10225 12550 21350 18300\n",
            " 10050 22300 33250 18275 17075 12050 21725 32525 18725 34800 19425 11575\n",
            "  1225 15275 33500 24575 24375  5475  1425 34200 13325 21450  7975 26025\n",
            " 26500 19575 14525  7950  4875 19700 23425 15050 10425 17875  9550 11525\n",
            " 28500 23675  1650 17975 15825 11275 20950 32350 28800 17300 34475 15775\n",
            " 19250 11075  7525 10300 21700  9075 29375  7175 13425 25500 12725 32775\n",
            " 13625 31725  9650 13575 23350 21300 15650 28750 12525 31325 13675  3325\n",
            "  5425 22325 11025 15425 27400 13175 18325  3925 19150 16350 29175 25400\n",
            " 10825 33425 18575  9725 17700 17225 30600 32500 29800 12425 21225  8625\n",
            "  4425 13775 22875 19550 19725 27175 16325  7075  5350 14975 30100 29900\n",
            "  3675 10025 14350 30225 29600 14775  6175 17850 21750 32400 31700 34675\n",
            " 24700 29300 28600 23275 28250 31500 23850 13975 19100 31025 31150 25875\n",
            " 27200 19450 34525 13275  3875 17825 31200 31400 14225 14475 19925 14175\n",
            " 26200 31800 23975 32875 16275  9825 29550 15025 30400 12850 22125 22900\n",
            " 26300 20450 10275 20300  7650 20425  6050  5925   925 10325 22725 19275\n",
            " 15100  1025 19900 19975  3475 21425 19300 24175  5725 10350 13725 11375\n",
            " 11725 26250 24650 25300  1625 19475  8025 26850 12625 21800]\n"
          ]
        },
        {
          "output_type": "display_data",
          "data": {
            "text/plain": [
              "<Figure size 640x480 with 1 Axes>"
            ],
            "image/png": "[encoded data removed]"
          },
          "metadata": {}
        },
        {
          "output_type": "stream",
          "name": "stdout",
          "text": [
            "funded_amnt : [ 5150 20000 12800 ... 24350 25100 23775]\n"
          ]
        },
        {
          "output_type": "display_data",
          "data": {
            "text/plain": [
              "<Figure size 640x480 with 1 Axes>"
            ],
            "image/png": "[encoded data removed]"
          },
          "metadata": {}
        },
        {
          "output_type": "stream",
          "name": "stdout",
          "text": [
            "funded_amnt_inv : [ 5150.      20000.      12750.      ... 11692.3357  24715.35803\n",
            " 27150.     ]\n"
          ]
        },
        {
          "output_type": "display_data",
          "data": {
            "text/plain": [
              "<Figure size 640x480 with 1 Axes>"
            ],
            "image/png": "[encoded data removed]"
          },
          "metadata": {}
        },
        {
          "output_type": "stream",
          "name": "stdout",
          "text": [
            "term : [60 36]\n"
          ]
        },
        {
          "output_type": "display_data",
          "data": {
            "text/plain": [
              "<Figure size 640x480 with 1 Axes>"
            ],
            "image/png": "[encoded data removed]"
          },
          "metadata": {}
        },
        {
          "output_type": "stream",
          "name": "stdout",
          "text": [
            "installment : [132.58 635.07 316.54 ... 453.08 298.49 179.66]\n"
          ]
        },
        {
          "output_type": "display_data",
          "data": {
            "text/plain": [
              "<Figure size 640x480 with 1 Axes>"
            ],
            "image/png": "[encoded data removed]"
          },
          "metadata": {}
        },
        {
          "output_type": "stream",
          "name": "stdout",
          "text": [
            "emp_title : ['atlantic tomorrows office' 'The Red Threads Inc.' 'T-Mobile USA Inc' ...\n",
            " 'Corbett Personnel' 'Law Office of Melissa Betancourt'\n",
            " 'champlain coummunity services']\n",
            "emp_length : [ 1.  6.  9.  0.  8. 10.  5.  2.  3.  4.  7. nan]\n"
          ]
        },
        {
          "output_type": "display_data",
          "data": {
            "text/plain": [
              "<Figure size 640x480 with 1 Axes>"
            ],
            "image/png": "[encoded data removed]"
          },
          "metadata": {}
        },
        {
          "output_type": "stream",
          "name": "stdout",
          "text": [
            "home_ownership : ['RENT' 'MORTGAGE' 'OWN' 'NONE' 'OTHER']\n",
            "annual_inc : [34992. 72000. 81708. ... 77954. 26988. 88080.]\n"
          ]
        },
        {
          "output_type": "display_data",
          "data": {
            "text/plain": [
              "<Figure size 640x480 with 1 Axes>"
            ],
            "image/png": "[encoded data removed]"
          },
          "metadata": {}
        },
        {
          "output_type": "stream",
          "name": "stdout",
          "text": [
            "verification_status : ['Source Verified' 'Verified' 'Not Verified']\n",
            "issue_d : ['Nov-11' 'Oct-11' 'Dec-11' 'Jul-07' 'Aug-07' 'Sep-07' 'Oct-07' 'Nov-07'\n",
            " 'Dec-07' 'Jan-08' 'Feb-08' 'Mar-08' 'Apr-08' 'Jul-08' 'May-08' 'Feb-10'\n",
            " 'May-11' 'Aug-08' 'Jun-08' 'Jan-09' 'Jul-10' 'Sep-08' 'Sep-09' 'Jul-09'\n",
            " 'Oct-08' 'Feb-09' 'Nov-08' 'Jun-09' 'Jun-10' 'Dec-08' 'Oct-09' 'Aug-10'\n",
            " 'Mar-09' 'Dec-10' 'Nov-09' 'Nov-10' 'Aug-09' 'Apr-09' 'May-09' 'Apr-10'\n",
            " 'Jan-10' 'May-10' 'Mar-10' 'Dec-09' 'Jul-11' 'Sep-10' 'Mar-11' 'Oct-10'\n",
            " 'Jan-11' 'Feb-11' 'Apr-11' 'Jun-11' 'Sep-11' 'Aug-11' 'Jun-07']\n",
            "loan_status : ['Current' 'Fully Paid'\n",
            " 'Does not meet the credit policy. Status:Fully Paid' 'Charged Off'\n",
            " 'In Grace Period' 'Late (31-120 days)' 'Late (16-30 days)'\n",
            " 'Does not meet the credit policy. Status:Charged Off' 'Default']\n",
            "pymnt_plan : ['n' 'y']\n",
            "desc : ['Borrower added on 10/22/11 > to pay off bills steady job always pays on time never missed payments<br/>'\n",
            " nan\n",
            " 'Borrower added on 10/26/11 > I will be preparing my land to move on and paying off debt.<br/> Borrower added on 10/26/11 > I listed my primary residence for sale/lease. Due to the economy, I rented it through 9/1/12, at which time I intend to put it back on the market for sale. I own 1 acre of land and am in need of funds to prepare the land as my new primary residence.<br/>'\n",
            " ...\n",
            " 'Borrower added on 10/21/11 > Funding would go to redo my roof, put down tile floor and redo the kitchen<br/> Borrower added on 10/21/11 > This would go to redo my roof, put down tile flooring and redo the kitchen<br/>'\n",
            " 'Borrower added on 10/22/11 > This will be used to pay off my credit cards so I can have one simple payment a month.<br/>'\n",
            " 'Borrower added on 10/22/11 > -I am going to use those funds as a payment for a subsidized low-maintanence apartment<br/>-My current payment history (never been paid late), and my high credit score<br/>-My stable job, and my monthly income allow me to pay my loan without any problem<br/>']\n",
            "purpose : ['debt_consolidation' 'moving' 'home_improvement' 'small_business' 'other'\n",
            " 'credit_card' 'major_purchase' 'car' 'wedding' 'vacation' 'medical'\n",
            " 'house' 'renewable_energy' 'educational']\n",
            "title : ['bills' 'Temp Loan' 'Home Improvement' ... 'Website Purchase'\n",
            " \"Rebeccah's CC Debt Consolidation Loan\" 'My savor']\n",
            "addr_state : ['NY' 'TX' 'GA' 'AL' 'MA' 'NJ' 'PA' 'UT' 'IL' 'FL' 'AZ' 'HI' 'CT' 'NV'\n",
            " 'CA' 'LA' 'AR' 'NM' 'VA' 'MN' 'IN' 'OH' 'MT' 'NC' 'MO' 'WA' 'MD' 'CO'\n",
            " 'WI' 'MI' 'OR' 'WV' 'DE' 'KY' 'SC' 'KS' 'NH' 'OK' 'DC' 'RI' 'VT' 'AK'\n",
            " 'SD' 'WY' 'ME' 'NE' 'TN' 'MS' 'IA' 'ID']\n",
            "dti : [17.59  7.8  14.22 ... 28.2  28.53 28.63]\n"
          ]
        },
        {
          "output_type": "display_data",
          "data": {
            "text/plain": [
              "<Figure size 640x480 with 1 Axes>"
            ],
            "image/png": "[encoded data removed]"
          },
          "metadata": {}
        },
        {
          "output_type": "stream",
          "name": "stdout",
          "text": [
            "delinq_2yrs : [ 0.  1.  4.  2.  3.  5.  6. 13.  7.  8. 11. nan  9.]\n"
          ]
        },
        {
          "output_type": "display_data",
          "data": {
            "text/plain": [
              "<Figure size 640x480 with 1 Axes>"
            ],
            "image/png": "[encoded data removed]"
          },
          "metadata": {}
        },
        {
          "output_type": "stream",
          "name": "stdout",
          "text": [
            "inq_last_6mths : [ 3.  2.  1.  0.  4.  6.  5.  7.  8. 12. 10. 13.  9. 19. 18. 11. 16. 15.\n",
            " 27. 28. 31. 24. 17. 14. nan 22. 26. 32. 33. 21.]\n"
          ]
        },
        {
          "output_type": "display_data",
          "data": {
            "text/plain": [
              "<Figure size 640x480 with 1 Axes>"
            ],
            "image/png": "[encoded data removed]"
          },
          "metadata": {}
        },
        {
          "output_type": "stream",
          "name": "stdout",
          "text": [
            "mths_since_last_delinq : [ nan  15.  35.  26.   5.  27.  32.  24.  28.  43.  41.  78.   1.  23.\n",
            "   8.  48.  13.  66.  50.  37.  25.  36.  19.  33.  45.   0.  21.  72.\n",
            "   9.  42.  17.  38.  14.  31.  49.  40.   4.  47.  74.  59.  20.  73.\n",
            "  46.  29.  81.  34.  44.  12.  39.  10.  68.  51.   3.  22.  54.  52.\n",
            "  16.  70.  63.  58.  67.  18.  71.  11.  69.  61.  57.  30.  77.  75.\n",
            "  82.  76.  53.  65.  62.  60.  55.   6.  80.  56.  79.   2.  64.   7.\n",
            "  95.  83.  85. 103.  89. 106. 120.  86. 115.  96.  97. 107.]\n"
          ]
        },
        {
          "output_type": "display_data",
          "data": {
            "text/plain": [
              "<Figure size 640x480 with 1 Axes>"
            ],
            "image/png": "[encoded data removed]"
          },
          "metadata": {}
        },
        {
          "output_type": "stream",
          "name": "stdout",
          "text": [
            "mths_since_last_record : [113.  nan  85.  96. 105.  61.   0.  75.  81.  72.  95. 117.  66.  65.\n",
            " 110.  78.  23.  98.  67.  52.  50.  28. 103.  90.  76. 111.  86.  93.\n",
            " 107. 100. 104.  91.  87. 109.  88.  54. 114.  89.  99.  69.  73.  57.\n",
            "  63.  92.  51.  80. 115.  79.  38.  48.  29. 101. 116.  68.  60.  83.\n",
            " 102. 112.  45.  97.  33.  13.  64.  25.  31.   5.  82.  47.  77.  74.\n",
            "  53.  70.  15.  44.  62. 108.  71.  18.  20.  39.  46.  56. 106.  49.\n",
            "  59.  30.  84.  43.  35. 118.  36.  58.  55.  42.  40.  11.  27.  41.\n",
            "  94.  22.   6.  17.  24.  34.  21.  14.  26.  37. 119.  32.   4.   7.\n",
            "   8.  16.  19.   9.  12.]\n"
          ]
        },
        {
          "output_type": "display_data",
          "data": {
            "text/plain": [
              "<Figure size 640x480 with 1 Axes>"
            ],
            "image/png": "[encoded data removed]"
          },
          "metadata": {}
        },
        {
          "output_type": "stream",
          "name": "stdout",
          "text": [
            "open_acc : [15.  6.  7. 16. 12. 14.  9.  4. 11. 23.  5. 10. 22. 13.  3.  8.  2. 21.\n",
            " 17. 18. 19. 26. 20. 29. 24. 25. 32. 28. 30.  1. 31. 42. 35. 37. 41. 27.\n",
            " 46. 44. 34. 36. 38. nan 33. 39. 47.]\n"
          ]
        },
        {
          "output_type": "display_data",
          "data": {
            "text/plain": [
              "<Figure size 640x480 with 1 Axes>"
            ],
            "image/png": "[encoded data removed]"
          },
          "metadata": {}
        },
        {
          "output_type": "stream",
          "name": "stdout",
          "text": [
            "pub_rec : [ 1.  0.  2.  3.  5.  4. nan]\n"
          ]
        },
        {
          "output_type": "display_data",
          "data": {
            "text/plain": [
              "<Figure size 640x480 with 1 Axes>"
            ],
            "image/png": "[encoded data removed]"
          },
          "metadata": {}
        },
        {
          "output_type": "stream",
          "name": "stdout",
          "text": [
            "revol_bal : [15187 15637   905 ... 18284 48458 10547]\n"
          ]
        },
        {
          "output_type": "display_data",
          "data": {
            "text/plain": [
              "<Figure size 640x480 with 1 Axes>"
            ],
            "image/png": "[encoded data removed]"
          },
          "metadata": {}
        },
        {
          "output_type": "stream",
          "name": "stdout",
          "text": [
            "total_acc : [21. 14. 23. 39. 30. 20. 26. 11. 25. 58. 18. 63. 17. 22. 28. 33. 12. 19.\n",
            " 54. 24. 34.  3. 16. 13. 10.  9. 15.  5. 42. 36. 27. 40.  8. 35. 37.  7.\n",
            " 32. 52. 29. 45. 43. 53. 51. 44. 41. 48. 46. 31. 38.  6. 62. 59. 47.  4.\n",
            " 50. 49. 57. 55. 60. 61. 56.  2. 79.  1. 76. 73. 64. 68. 69. 65. 66. 67.\n",
            " 71. 75. 80. 90. 81. 78. nan 72. 87. 77. 70. 74.]\n"
          ]
        },
        {
          "output_type": "display_data",
          "data": {
            "text/plain": [
              "<Figure size 640x480 with 1 Axes>"
            ],
            "image/png": "[encoded data removed]"
          },
          "metadata": {}
        },
        {
          "output_type": "stream",
          "name": "stdout",
          "text": [
            "out_prncp : [ 266.22    0.    754.69  117.3   592.48  447.87  253.6  1213.77 1647.56\n",
            "  906.98  638.71  561.23  576.07  140.18 1115.56  753.14  927.82  102.89\n",
            " 1295.41  591.66  226.68  976.58 1132.76  786.62  805.26  704.01  793.05\n",
            "  674.01  950.18  550.2   596.72  743.73  997.59  638.87  579.84  699.69\n",
            " 1020.06 2808.36  750.18  773.6  1253.86  415.78 1183.18  385.3   755.03\n",
            "  556.74  501.79 1026.18 1217.58  898.03 1557.85 2438.35 1096.88  948.11\n",
            "  841.3   954.37 1171.61 1153.34 1638.11 1682.82  899.73  317.54 1858.2\n",
            "  432.94 1257.39 1556.16  156.93  332.28  621.69  415.35  279.33 2114.55\n",
            "  879.64  332.55 1913.97  726.51 1535.2     4.63  579.32 1856.46  710.83\n",
            "  532.37  149.66  527.75 1870.51 1077.83 2319.68 2110.48 2305.63  712.55\n",
            " 1578.06  814.84  385.92 1174.98 1031.36  908.19 1387.81  419.12 1460.14\n",
            " 2315.84 1320.81 2085.15  488.6  1365.29  806.94  821.57 2759.98 2333.19\n",
            " 1250.48  968.02 1189.92  312.77 1043.14 2083.61 1091.79 1484.47 1827.92\n",
            " 1830.96  536.65  954.2   536.45  466.9   278.16 1218.99  975.95 1144.85\n",
            "  796.06  735.56 2804.04  815.87 1086.45 2804.26 1281.73 1428.25  820.19\n",
            " 1501.77  953.28 1480.79 2632.48 2202.57 1162.71 2054.31 1791.52 1637.51\n",
            " 1626.54  973.53 1465.77  880.4  1836.05  959.57 1091.59  988.74 2340.27\n",
            "  644.9   989.77  330.34  942.99  495.47 1108.63 1449.74 1543.26 1901.65\n",
            " 1201.52  804.45  334.12 1645.35  980.77 1622.04 1774.72 2514.12 1847.15\n",
            "  811.41 1877.23  396.46  838.16 1788.61 2155.11 1480.89  923.03 1043.64\n",
            " 1023.4   301.37 1510.18 1764.45  908.64 1177.52 1476.04  420.77 2411.\n",
            "  408.81 1443.08 1187.65 1080.06 1521.25  687.71 2284.83 1432.53  448.92\n",
            "  566.26 2338.36  577.43  764.42 1788.74 1312.93  581.42 1570.89 1438.64\n",
            " 1974.73  846.6   363.82 1500.96 1042.01 1077.02 1465.07  849.08  808.19\n",
            " 1503.68  731.24 1507.27 2745.54  877.27 1451.55 1425.18 1890.55  966.86\n",
            " 1392.45 2047.49 1245.04  695.46 1280.18 1507.25  723.86 1799.34  248.49\n",
            "  807.71  488.1   445.82 1935.53 2392.67  918.77 1686.7  1077.62  251.31\n",
            " 1452.26 1052.14 1561.13  555.51  510.98  827.72 1454.39 1443.18 1050.06\n",
            " 1093.85  789.66  458.05 1541.25 2274.52 1699.56 1078.15 1723.24 1573.11\n",
            "  306.82  221.45 1325.18  664.09 1335.1  1050.41 1385.05 1231.59 1361.38\n",
            " 1847.83 1215.81  230.95 1345.54 1285.12 1374.72 1383.33  956.96 1173.8\n",
            "  535.51 1622.   1126.24  270.78  414.19  565.98   21.27  484.25  517.62\n",
            "  568.79   24.15  816.64  974.88  324.75   45.45  308.33  364.86  544.16\n",
            "  310.59  176.    349.85  630.78  593.2   460.04 1121.71  563.89  395.67\n",
            "  436.46  157.61  315.9   386.48  125.08   55.55   98.34  589.25  494.78\n",
            "  654.58  708.76  373.85  699.82  786.03  313.38  498.32  222.2    81.46\n",
            "  653.54  770.24 1103.97  126.31 1904.64  271.23  492.14  669.76  336.85\n",
            "  136.32  345.01  406.33  898.65  417.86  380.8   252.77  108.89  295.86\n",
            "  244.15  564.28  249.27  398.78  537.51 1189.85 1081.26  608.94 1216.53\n",
            "  912.38 1536.93  742.16  661.52  293.84  466.88  417.82  758.46   39.\n",
            "  758.44  944.11  524.21   69.04  280.28   66.79  848.89  587.2   315.74\n",
            "  940.39  747.13  244.27  444.68  505.44  721.95  607.51  226.36  695.67\n",
            "  272.51  784.82  629.8   485.64  775.15  492.65   96.05  481.45  369.39\n",
            "  136.47   48.78  390.7   581.66   68.58  842.08  108.04 1315.62  145.88\n",
            "  158.11 1261.38  222.49  521.64 1392.97  613.72  252.73  354.36  410.77\n",
            "  459.08  784.81  514.94  328.45  669.58  279.65  654.49  393.56  819.03\n",
            "  313.53  520.65  404.93 1028.45  262.84   98.47  630.97 2288.62  527.16\n",
            "  886.93  660.73 1290.93  821.36  268.94  815.22  448.57 1334.5   394.4\n",
            "  116.65  527.76  320.63  279.68  659.01  430.29  884.11  675.48  108.86\n",
            " 1486.27  707.3  1280.56  670.42  556.15  315.25  362.58  353.81  236.72\n",
            " 1006.79  742.46  322.13  124.42 1007.94  365.82 1663.56  315.53  138.03\n",
            "  715.65  251.67  817.3   470.96  706.45  680.07  139.88 1557.68  381.45\n",
            "  406.18  470.13  653.7   571.18 1395.06  633.02  279.37  630.14  299.56\n",
            "  269.94 1240.87  604.94  315.47  697.47  628.93 1602.99 1776.62  697.61\n",
            "  743.19 1159.08 1264.86  369.49 1014.07  533.48 1155.26 1545.05 1391.74\n",
            " 1724.49  271.67  795.97  587.07 1587.83 1288.57  399.37 1596.5  2444.57\n",
            " 1027.24  566.79 1372.57  657.16 1417.64 1159.42 1757.48 1371.03 1858.13\n",
            "  820.7  1464.17 2691.17 2603.78  653.2  2446.98  447.09 1903.79 1478.34\n",
            " 1924.93 1749.05 3555.85 1205.31 1420.92 3126.61 1460.71  409.05   30.54\n",
            "  564.35   71.53 1206.14  932.39  122.44  483.26  389.9   478.18  104.13\n",
            "   72.14  231.72  782.86  795.8   213.78 1129.5  1052.25]\n"
          ]
        },
        {
          "output_type": "display_data",
          "data": {
            "text/plain": [
              "<Figure size 640x480 with 1 Axes>"
            ],
            "image/png": "[encoded data removed]"
          },
          "metadata": {}
        },
        {
          "output_type": "stream",
          "name": "stdout",
          "text": [
            "out_prncp_inv : [ 266.22    0.    753.37  114.16  582.34  447.87  253.6  1201.86 1646.19\n",
            "  906.98  638.71  561.23  574.94  140.18 1113.29  753.14  927.82  102.89\n",
            " 1295.41  590.47  216.02  976.58 1131.62  785.25  805.26  704.01  780.95\n",
            "  672.88  936.34  550.2   596.72  732.4   984.36  638.87  578.62  688.37\n",
            " 1001.62 2806.35  748.8   773.6  1252.53  414.65 1183.18  384.14  755.03\n",
            "  556.74  501.79 1024.87 1205.25  887.86 1552.2  2438.35 1092.27  942.26\n",
            "  824.12  942.78 1161.15 1153.34 1600.87 1672.55  898.    317.54 1852.83\n",
            "  432.94 1244.82 1556.16  156.93  332.28  612.29  415.35  268.21 2105.86\n",
            "  867.73  332.55 1902.97  717.75 1535.2     4.52  579.32 1845.83  698.07\n",
            "  522.22  149.66  517.36 1868.54 1054.77 2301.44 2093.98 2303.69  712.55\n",
            " 1578.06  814.84  378.2  1174.98 1029.45  906.42 1387.81  418.7  1458.27\n",
            " 2314.16 1299.49 2083.4   484.99 1345.02  806.94  821.57 2759.98 2309.89\n",
            " 1248.51  968.02 1189.92  312.77 1041.2  2081.6  1089.93 1482.46 1822.92\n",
            " 1809.98  519.55  954.2   536.45  465.23  278.16 1216.95  970.88 1141.39\n",
            "  796.06  735.56 2800.01  796.91 1084.56 2804.26 1279.97 1428.25  820.19\n",
            " 1500.01  953.28 1477.09 2626.73 2200.56 1162.71 2052.64 1789.57 1632.5\n",
            " 1619.    973.53 1461.94  880.4  1836.05  959.57 1088.21  987.08 2336.8\n",
            "  644.9   989.77  330.34  942.99  493.52 1106.75 1444.14 1541.53 1879.07\n",
            " 1201.52  804.45  334.12 1643.38  980.77 1622.04 1774.72 2512.11 1843.16\n",
            "  795.09 1877.23  396.46  838.16 1772.04 2155.11 1479.15  923.03 1041.94\n",
            " 1023.4   301.37 1510.18 1762.23  908.64 1177.52 1476.04  420.77 2411.\n",
            "  408.81 1443.08 1187.65 1080.06 1521.25  687.71 2283.17 1430.65  448.92\n",
            "  566.26 2336.62  577.43  764.42 1788.74 1309.6   581.42 1570.89 1436.77\n",
            " 1972.73  843.44  363.82 1500.96 1042.01 1077.02 1465.07  849.08  808.19\n",
            " 1503.68  731.24 1505.54 2745.54  877.27 1451.55 1425.18 1890.55  966.86\n",
            " 1390.78 2045.04 1245.04  693.45 1280.18 1505.33  721.3  1799.34  248.19\n",
            "  807.71  488.1   445.82 1935.53 2390.62  918.77 1684.75 1076.01  251.31\n",
            " 1452.26 1052.14 1559.12  555.51  510.98  827.72 1452.47 1441.51 1050.06\n",
            " 1093.85  789.66  458.05 1541.25 2274.52 1699.56 1078.15 1723.24 1573.11\n",
            "  306.82  221.45 1323.18  664.09 1333.36 1048.75 1383.26 1229.82 1358.91\n",
            " 1845.29 1215.81  230.95 1345.54 1283.25 1374.72 1379.87  954.52 1173.8\n",
            "  535.51 1619.35 1123.96  270.78  414.19  565.98   21.27  483.58  511.32\n",
            "  568.07   24.15  816.64  974.88  324.75   45.45  302.2   364.86  543.47\n",
            "  304.74  176.    349.85  630.25  587.39  454.33 1121.71  562.73  395.67\n",
            "  430.34  152.35  309.81  385.89  123.92   55.55   98.34  589.25  492.85\n",
            "  653.9   702.94  373.85  699.18  780.4   312.72  498.32  222.2    81.46\n",
            "  652.37  769.04 1103.97  126.31 1897.79  271.23  491.4   658.66  336.85\n",
            "  136.32  345.01  405.58  898.65  411.25  380.14  252.77  108.89  295.86\n",
            "  238.99  563.63  249.27  398.78  535.42 1189.85 1079.38  608.94 1199.54\n",
            "  912.38 1525.96  738.68  661.52  293.25  466.29  417.82  758.46   39.\n",
            "  758.44  466.88  936.75  524.21   69.04  280.28   66.79  848.89  586.04\n",
            "  315.74  939.66  746.36  244.27  444.68  505.44  715.44  607.51  226.36\n",
            "  694.31  272.51  778.03  629.8   485.64  769.01  492.65   96.05  475.9\n",
            "  369.39  135.07   48.78  390.7   581.66   67.28  840.58  108.04 1312.08\n",
            "  145.88  151.82 1248.92  222.49  521.64 1391.3   612.98  252.73  354.36\n",
            "  409.41  458.43  779.18  509.13  322.63  664.03  273.84  654.49  393.56\n",
            "  817.68  313.53  520.65  404.93 1027.15  262.84   93.13  629.91 2250.96\n",
            "  525.25  885.18  660.73 1290.93  820.04  263.31  813.99  448.57 1321.11\n",
            "  391.74  116.65  527.76  315.01  279.68  658.26  429.53  884.11  675.48\n",
            "  103.7  1484.92  707.3  1280.56  665.03  556.15  309.71  361.85  353.81\n",
            "  236.72 1006.79  736.74  322.13  124.42  998.18  360.19 1662.09  315.53\n",
            "  138.03  704.12  241.17  816.59  459.99  705.79  673.86  134.07 1546.55\n",
            "  381.45  405.52  449.56  653.7   570.   1395.06  633.02  279.37  629.38\n",
            "  299.56  269.94 1240.87  604.94  315.47  697.47  628.93 1602.99 1775.25\n",
            "  697.61  743.19 1145.48 1264.86  369.49 1011.5   531.33 1155.26 1532.26\n",
            " 1373.55 1724.49  271.67  793.38  584.97 1585.44 1288.57  399.37 1596.5\n",
            " 2438.53 1013.56  564.63 1372.57  657.16 1417.64 1159.42 1757.48 1369.82\n",
            " 1858.13  818.96 1464.17 2677.64 2579.77  640.65 2442.64  447.09 1901.23\n",
            " 1475.84 1922.46 1749.05 3553.3  1202.71 1420.92 3123.44 1458.43  408.38\n",
            "   30.27  563.56   71.29 1203.49  932.39  122.44  482.51  389.9   478.18\n",
            "  103.79   71.16  231.72  782.86  779.23  213.78 1129.5  1050.9 ]\n"
          ]
        },
        {
          "output_type": "display_data",
          "data": {
            "text/plain": [
              "<Figure size 640x480 with 1 Axes>"
            ],
            "image/png": "[encoded data removed]"
          },
          "metadata": {}
        },
        {
          "output_type": "stream",
          "name": "stdout",
          "text": [
            "total_pymnt : [ 7674.25    22610.98773 14401.17047 ...  1059.15     4850.82\n",
            "  9188.49   ]\n"
          ]
        },
        {
          "output_type": "display_data",
          "data": {
            "text/plain": [
              "<Figure size 640x480 with 1 Axes>"
            ],
            "image/png": "[encoded data removed]"
          },
          "metadata": {}
        },
        {
          "output_type": "stream",
          "name": "stdout",
          "text": [
            "total_pymnt_inv : [ 7674.25 22610.99 14344.92 ...  1059.15  4850.82  9159.72]\n"
          ]
        },
        {
          "output_type": "display_data",
          "data": {
            "text/plain": [
              "<Figure size 640x480 with 1 Axes>"
            ],
            "image/png": "[encoded data removed]"
          },
          "metadata": {}
        },
        {
          "output_type": "stream",
          "name": "stdout",
          "text": [
            "total_rec_prncp : [ 4883.78 20000.   12800.   ...   804.03  2992.41  4958.03]\n"
          ]
        },
        {
          "output_type": "display_data",
          "data": {
            "text/plain": [
              "<Figure size 640x480 with 1 Axes>"
            ],
            "image/png": "[encoded data removed]"
          },
          "metadata": {}
        },
        {
          "output_type": "stream",
          "name": "stdout",
          "text": [
            "total_rec_int : [2790.47 2610.99 1601.17 ...  198.59 1847.07 4230.46]\n"
          ]
        },
        {
          "output_type": "display_data",
          "data": {
            "text/plain": [
              "<Figure size 640x480 with 1 Axes>"
            ],
            "image/png": "[encoded data removed]"
          },
          "metadata": {}
        },
        {
          "output_type": "stream",
          "name": "stdout",
          "text": [
            "total_rec_late_fee : [ 0.         29.97647355 15.         ... 46.46648865 14.98303387\n",
            " 62.43699384]\n"
          ]
        },
        {
          "output_type": "display_data",
          "data": {
            "text/plain": [
              "<Figure size 640x480 with 1 Axes>"
            ],
            "image/png": "[encoded data removed]"
          },
          "metadata": {}
        },
        {
          "output_type": "stream",
          "name": "stdout",
          "text": [
            "recoveries : [   0.   1802.13  489.25 ...  403.32   56.53   11.34]\n"
          ]
        },
        {
          "output_type": "display_data",
          "data": {
            "text/plain": [
              "<Figure size 640x480 with 1 Axes>"
            ],
            "image/png": "[encoded data removed]"
          },
          "metadata": {}
        },
        {
          "output_type": "stream",
          "name": "stdout",
          "text": [
            "collection_recovery_fee : [  0.     324.3834  88.065  ...  15.47     1.2292   0.5653]\n"
          ]
        },
        {
          "output_type": "display_data",
          "data": {
            "text/plain": [
              "<Figure size 640x480 with 1 Axes>"
            ],
            "image/png": "[encoded data removed]"
          },
          "metadata": {}
        },
        {
          "output_type": "stream",
          "name": "stdout",
          "text": [
            "collections_12_mths_ex_med : [ 0. nan]\n"
          ]
        },
        {
          "output_type": "display_data",
          "data": {
            "text/plain": [
              "<Figure size 640x480 with 1 Axes>"
            ],
            "image/png": "[encoded data removed]"
          },
          "metadata": {}
        },
        {
          "output_type": "stream",
          "name": "stdout",
          "text": [
            "pub_rec_bankruptcies : [ 1.  0. nan  2.]\n"
          ]
        },
        {
          "output_type": "display_data",
          "data": {
            "text/plain": [
              "<Figure size 640x480 with 1 Axes>"
            ],
            "image/png": "[encoded data removed]"
          },
          "metadata": {}
        },
        {
          "output_type": "stream",
          "name": "stdout",
          "text": [
            "interest_rate : [0.1864 0.089  0.1677 0.1727 0.0603 0.079  0.0991 0.1349 0.1269 0.1903\n",
            " 0.0662 0.1171 0.1427 0.1065 0.0751 0.2167 0.1825 0.1596 0.1527 0.1249\n",
            " 0.1465 0.1942 0.0743 0.1629 0.2274 0.1991 0.1758 0.1242 0.2391 0.2206\n",
            " 0.203  0.2235 0.2128 0.2089 0.1028 0.1059 0.2352 0.06   0.1533 0.1438\n",
            " 0.2411 0.0996 0.147  0.1754 0.1154 0.1501 0.1217 0.0964 0.1186 0.1343\n",
            " 0.0807 0.1407 0.1091 0.128  0.0838 0.1375 0.0775 0.1786 0.087  0.1722\n",
            " 0.1122 0.0933 0.0712 0.1628 0.1312 0.1467 0.1565 0.1659 0.0901 0.1691\n",
            " 0.1014 0.133  0.1709 0.1362 0.0983 0.1078 0.092  0.1109 0.1141 0.1236\n",
            " 0.152  0.1583 0.1172 0.1393 0.1457 0.1299 0.1204 0.0951 0.1425 0.1046\n",
            " 0.1615 0.1267 0.1646 0.1836 0.1488 0.1551 0.1804 0.0832 0.1261 0.0945\n",
            " 0.1071 0.0863 0.1324 0.1197 0.1387 0.1482 0.0976 0.1576 0.1008 0.1039\n",
            " 0.08   0.1355 0.1166 0.1513 0.1829 0.0737 0.145  0.1797 0.1608 0.1229\n",
            " 0.0768 0.1134 0.1103 0.1545 0.1418 0.1734 0.1292 0.164  0.1671 0.1861\n",
            " 0.1766 0.157  0.0749 0.1703 0.1222 0.1273 0.1379 0.1112 0.1253 0.1286\n",
            " 0.1287 0.097  0.1001 0.1475 0.1854 0.1538 0.1191 0.138  0.1507 0.1601\n",
            " 0.1665 0.1412 0.1128 0.1254 0.1159 0.1096 0.1064 0.1791 0.1696 0.1886\n",
            " 0.1317 0.1033 0.1411 0.1633 0.1443 0.1728 0.1221 0.1759 0.1272 0.1051\n",
            " 0.1146 0.1209 0.1083 0.1936 0.1178 0.1588 0.1241 0.0907 0.102  0.1114\n",
            " 0.1336 0.1304 0.1557 0.0938 0.1493 0.1367 0.1462 0.0963 0.0788 0.1715\n",
            " 0.1126 0.1442 0.1148 0.1399 0.1525 0.1683 0.143  0.1426 0.1778 0.1347\n",
            " 0.1392 0.1323 0.162  0.1038 0.1568 0.0988 0.16   0.1062 0.0932 0.1284\n",
            " 0.1505 0.1316 0.1189 0.1158 0.1095 0.1947 0.1695 0.1474 0.0962 0.1537\n",
            " 0.167  0.1632 0.1357 0.1422 0.1218 0.1663 0.1853 0.1726 0.1821 0.1348\n",
            " 0.1311 0.1531 0.1635 0.179  0.1884 0.1843 0.1461 0.1595 0.183  0.1183\n",
            " 0.074  0.2011 0.1607 0.1521 0.1496 0.1682 0.0774 0.2086 0.1979 0.0714\n",
            " 0.1036 0.1739 0.1322 0.1385 0.0894 0.0859 0.1099 0.1916 0.2017 0.1982\n",
            " 0.1704 0.1913 0.1774 0.0705 0.1025 0.2052 0.1809 0.0925 0.1878 0.0766\n",
            " 0.2121 0.1136 0.0676 0.1459 0.1793 0.1484 0.1719 0.1149 0.1645 0.1111\n",
            " 0.209  0.1298 0.1756 0.0639 0.1398 0.1904 0.2016 0.0729 0.1941 0.1867\n",
            " 0.2127 0.2164 0.1472 0.1558 0.2053 0.0617 0.1361 0.1075 0.1602 0.1435\n",
            " 0.0654 0.0579 0.1074 0.0999 0.1223 0.0691 0.1335 0.0888 0.1037 0.1268\n",
            " 0.1839 0.1491 0.1409 0.1483 0.0542 0.1743 0.1372 0.204  0.1446 0.1669\n",
            " 0.2114 0.1817 0.1528 0.1966 0.178  0.1706 0.1649 0.1929 0.2003 0.2077\n",
            " 0.1891 0.1599 0.2248 0.1306 0.2085 0.1744 0.1    0.1199 0.1974 0.1417\n",
            " 0.0692 0.1714 0.1751 0.1788 0.1454 0.1862 0.1899 0.2048 0.2122 0.0599\n",
            " 0.2099 0.2211 0.2159 0.0849 0.1799 0.1523 0.1969 0.1562 0.0699 0.1479\n",
            " 0.1689 0.2062 0.1879 0.1749 0.0791 0.2025 0.2136 0.2174 0.2359 0.1807\n",
            " 0.202  0.1611 0.0967 0.1849 0.2182 0.1163 0.0742 0.2459 0.2069 0.2322\n",
            " 0.2148 0.1262 0.1939 0.2294 0.1212 0.1384 0.2285 0.2313 0.1741 0.1772\n",
            " 0.1872 0.1746 0.244  0.2264]\n"
          ]
        },
        {
          "output_type": "display_data",
          "data": {
            "text/plain": [
              "<Figure size 640x480 with 1 Axes>"
            ],
            "image/png": "[encoded data removed]"
          },
          "metadata": {}
        },
        {
          "output_type": "stream",
          "name": "stdout",
          "text": [
            "revol_utilization : [0.873  0.354  0.754  ... 0.7763 0.3204 0.2489]\n"
          ]
        },
        {
          "output_type": "display_data",
          "data": {
            "text/plain": [
              "<Figure size 640x480 with 1 Axes>"
            ],
            "image/png": "[encoded data removed]"
          },
          "metadata": {}
        },
        {
          "output_type": "stream",
          "name": "stdout",
          "text": [
            "number_bc_gt_75 : [2 0 1 3]\n"
          ]
        },
        {
          "output_type": "display_data",
          "data": {
            "text/plain": [
              "<Figure size 640x480 with 1 Axes>"
            ],
            "image/png": "[encoded data removed]"
          },
          "metadata": {}
        },
        {
          "output_type": "stream",
          "name": "stdout",
          "text": [
            "fico_score : [709 744 719 714 759 814 804 699 724 789 769 799 774 704 754 734 739 764\n",
            " 784 749 779 819 679 729 689 794 694 809 659 669 654 664 639 674 684 824\n",
            " 649 829 634 644 629 619]\n"
          ]
        },
        {
          "output_type": "display_data",
          "data": {
            "text/plain": [
              "<Figure size 640x480 with 1 Axes>"
            ],
            "image/png": "[encoded data removed]"
          },
          "metadata": {}
        },
        {
          "output_type": "stream",
          "name": "stdout",
          "text": [
            "lti : [0.1471765  0.27777778 0.15665541 ... 0.16462307 0.28484848 0.28810141]\n"
          ]
        },
        {
          "output_type": "display_data",
          "data": {
            "text/plain": [
              "<Figure size 640x480 with 1 Axes>"
            ],
            "image/png": "[encoded data removed]"
          },
          "metadata": {}
        },
        {
          "output_type": "stream",
          "name": "stdout",
          "text": [
            "month_since_oldest_tl : [124. 149. 176. 140. 136.  97. 168. 107.  88. 115. 404. 108. 142.  93.\n",
            " 126. 133.  65.  95. 141. 138. 195.  64. 100.  96.  59.  89. 120.  69.\n",
            "  51.  91. 106.  86. 104.  87. 128.  81. 125.  94.  54. 127. 114. 146.\n",
            " 155.  62. 121. 102. 111. 144.  82.  80. 116.  70. 187. 117.  84.  61.\n",
            " 147. 483. 217. 313. 135. 119. 215.  44. 166.  99. 157. 139.  55. 271.\n",
            " 130.  92. 137. 154.  76. 123. 109.  57. 105. 131.  67. 160. 211. 129.\n",
            " 110. 418. 156. 204.  60.  74. 150.  90.  53. 205. 407. 101. 239.  85.\n",
            "  78. 236. 175. 165. 387. 372.  63. 145. 132. 122.  66. 346.  83. 164.\n",
            " 349. 201. 179.  71. 247. 186. 402. 143. 112. 158.  42. 357.  98.  58.\n",
            "  75. 194.  48.  68.  49. 113. 256. 134.  77. 235. 184. 174.  38. 330.\n",
            " 283. 202. 237. 300. 103. 118. 285.  52. 316.  72. 152.  56. 148. 181.\n",
            " 203.  73. 340. 210. 193. 303. 312. 233. 208. 255. 163.  79. 222. 227.\n",
            " 177. 282. 170. 226. 321. 351. 337. 391. 182. 178. 159. 238. 213. 221.\n",
            " 246. 277. 180. 230. 198. 260.  47. 251. 216.  50. 461. 431. 151. 172.\n",
            " 244. 322.  46. 287. 171. 229. 258. 209. 352. 306. 214. 225. 189. 234.\n",
            " 286. 196. 243. 197. 259. 218. 162. 430. 310. 378.  40. 185. 188. 290.\n",
            " 267. 245. 389. 183. 268. 206. 338.  26. 261.  37. 228. 275. 331. 309.\n",
            " 192. 169. 320. 266. 191. 199. 240. 274. 161. 284. 173. 393. 153. 167.\n",
            " 289. 281.  45. 299. 305. 382.  39. 248. 419. 362.  22. 348. 190. 262.\n",
            " 220. 263. 491. 269. 315. 401. 323. 364. 272. 297. 223. 276. 288. 280.\n",
            "  43. 413. 200. 385.   8. 242. 356.  41. 224. 361.  15.  34.  35.  14.\n",
            "  21.  20.  33.  24.  18.   9. 339.  12.  13. 257.   6.  11. 433.  19.\n",
            "  10. 270. 219.  16.  28.  32. 326.  25. 435. 325.  27.  17.  31.  29.\n",
            " 212. 302.  36.   7. 360.  23.  30. 294. 279. 480. 232. 207. 293. 328.\n",
            " 434. 252. 253. 308. 347. 292. 380. 264. 273. 353. 265. 366. 333. 343.\n",
            " 397. 307. 355. 295. 249. 291. 332. 365. 296. 341. 396. 314. 329. 344.\n",
            " 311. 371. 403. 317. 373. 359. 379. 254. 241. 447. 405. 438. 327. 381.\n",
            " 426. 390. 394. 231. 479. 319. 410. 278. 342. 345. 376. 469. 383. 367.\n",
            " 318. 250. 304. 388. 334. 324. 473. 425. 336. 301. 463. 392. 354. 335.\n",
            " 452. 384. 406. 386. 370. 459. 369. 573. 409. 375. 395. 490. 358. 457.\n",
            " 445. 458.  nan 441. 625. 443. 298. 685. 440. 524. 557. 466. 423. 454.\n",
            " 400. 420. 436. 350. 486. 474. 368. 462. 374. 377. 432. 475. 422. 416.\n",
            " 451. 584.   5.   3.   1.   2.   4. 428. 442.]\n"
          ]
        },
        {
          "output_type": "display_data",
          "data": {
            "text/plain": [
              "<Figure size 640x480 with 1 Axes>"
            ],
            "image/png": "[encoded data removed]"
          },
          "metadata": {}
        },
        {
          "output_type": "stream",
          "name": "stdout",
          "text": [
            "race_name : ['White' 'African American' 'Asian' 'Other']\n",
            "gender : ['Female' 'Male']\n",
            "target : [1 0]\n"
          ]
        },
        {
          "output_type": "display_data",
          "data": {
            "text/plain": [
              "<Figure size 640x480 with 1 Axes>"
            ],
            "image/png": "[encoded data removed]"
          },
          "metadata": {}
        }
      ]
    },
    {
      "cell_type": "markdown",
      "source": [
        "filling null values"
      ],
      "metadata": {
        "id": "UMTgbPLScK7P"
      }
    },
    {
      "cell_type": "code",
      "source": [
        "#filling null values with median as median is less affected by outliers\n",
        "df['emp_length']=df['emp_length'].fillna(df['emp_length'].median())\n",
        "df['delinq_2yrs']=df['delinq_2yrs'].fillna(df['delinq_2yrs'].median())\n",
        "df['inq_last_6mths']=df['inq_last_6mths'].fillna(df['inq_last_6mths'].median())\n",
        "df['annual_inc']=df['annual_inc'].fillna(df['annual_inc'].median())\n",
        "df['mths_since_last_delinq']=df['mths_since_last_delinq'].fillna(df['mths_since_last_delinq'].median())\n",
        "df['mths_since_last_record']=df['mths_since_last_record'].fillna(df['mths_since_last_record'].median())\n",
        "df['open_acc']=df['open_acc'].fillna(df['open_acc'].median())\n",
        "df['pub_rec']=df['pub_rec'].fillna(df['pub_rec'].median())\n",
        "df['total_acc']=df['total_acc'].fillna(df['total_acc'].median())\n",
        "df['collections_12_mths_ex_med']=df['collections_12_mths_ex_med'].fillna(df['collections_12_mths_ex_med'].median())\n",
        "df['pub_rec_bankruptcies']=df['pub_rec_bankruptcies'].fillna(df['pub_rec_bankruptcies'].median())\n",
        "df['revol_utilization']=df['revol_utilization'].fillna(df['revol_utilization'].median())\n",
        "df['lti']=df['loan_amnt']/df['annual_inc']\n",
        "df['month_since_oldest_tl'] =df['month_since_oldest_tl'].fillna(df['month_since_oldest_tl'].median())"
      ],
      "metadata": {
        "id": "T1Gyi5PdcGdg"
      },
      "execution_count": null,
      "outputs": []
    },
    {
      "cell_type": "code",
      "source": [
        "df.isna().sum()"
      ],
      "metadata": {
        "id": "3HkC5V8gW-ay",
        "colab": {
          "base_uri": "https://localhost:8080/"
        },
        "outputId": "b2b7863f-fb28-42c7-c41c-2469848b644f"
      },
      "execution_count": null,
      "outputs": [
        {
          "output_type": "execute_result",
          "data": {
            "text/plain": [
              "id                                0\n",
              "member_id                         0\n",
              "loan_amnt                         0\n",
              "funded_amnt                       0\n",
              "funded_amnt_inv                   0\n",
              "term                              0\n",
              "installment                       0\n",
              "emp_title                      2626\n",
              "emp_length                        0\n",
              "home_ownership                    0\n",
              "annual_inc                        0\n",
              "verification_status               0\n",
              "issue_d                           0\n",
              "loan_status                       0\n",
              "pymnt_plan                        0\n",
              "desc                          13521\n",
              "purpose                           0\n",
              "title                            13\n",
              "addr_state                        0\n",
              "dti                               0\n",
              "delinq_2yrs                       0\n",
              "inq_last_6mths                    0\n",
              "mths_since_last_delinq            0\n",
              "mths_since_last_record            0\n",
              "open_acc                          0\n",
              "pub_rec                           0\n",
              "revol_bal                         0\n",
              "total_acc                         0\n",
              "out_prncp                         0\n",
              "out_prncp_inv                     0\n",
              "total_pymnt                       0\n",
              "total_pymnt_inv                   0\n",
              "total_rec_prncp                   0\n",
              "total_rec_int                     0\n",
              "total_rec_late_fee                0\n",
              "recoveries                        0\n",
              "collection_recovery_fee           0\n",
              "collections_12_mths_ex_med        0\n",
              "pub_rec_bankruptcies              0\n",
              "interest_rate                     0\n",
              "revol_utilization                 0\n",
              "number_bc_gt_75                   0\n",
              "fico_score                        0\n",
              "lti                               0\n",
              "month_since_oldest_tl             0\n",
              "race_name                         0\n",
              "gender                            0\n",
              "target                            0\n",
              "dtype: int64"
            ]
          },
          "metadata": {},
          "execution_count": 129
        }
      ]
    },
    {
      "cell_type": "markdown",
      "source": [
        "Dropping the not required columns to train model\n",
        "<br>\n",
        "<br>"
      ],
      "metadata": {
        "id": "HHgTWX091D4v"
      }
    },
    {
      "cell_type": "code",
      "source": [
        "cols=['id','member_id','funded_amnt','funded_amnt_inv','emp_title','issue_d','verification_status', 'loan_status',\n",
        "         'pymnt_plan', 'desc', 'title','out_prncp_inv',  'total_pymnt','total_pymnt_inv', 'total_rec_prncp', 'total_rec_int','addr_state', 'purpose',\n",
        "       'total_rec_late_fee','collections_12_mths_ex_med']\n",
        "df=df.drop(columns=cols)"
      ],
      "metadata": {
        "id": "R07wLgWmf3aI"
      },
      "execution_count": null,
      "outputs": []
    },
    {
      "cell_type": "code",
      "source": [
        "# \tImportance\n",
        "# recoveries\t0.821226\n",
        "# fico_score\t0.078321\n",
        "# inq_last_6mths\t0.031843\n",
        "# month_since_oldest_tl\t0.024720\n",
        "# interest_rate\t0.011899\n",
        "# total_acc\t0.010493\n",
        "# mths_since_last_record\t0.005331\n",
        "# term\t0.004705\n",
        "# number_bc_gt_75\t0.002983\n",
        "# loan_amnt\t0.002361\n",
        "# revol_bal\t0.001147\n",
        "# lti\t0.001147\n",
        "# emp_length\t0.000592\n",
        "# annual_inc\t0.000444\n",
        "# dti\t0.000422\n",
        "# mths_since_last_delinq\t0.000351\n",
        "# home_ownership\t0.000318\n",
        "# revol_utilization\t0.000263\n",
        "# installment\t0.000242\n",
        "# open_acc\t0.000205\n",
        "# out_prncp\t0.000099\n",
        "# gender\t0.000080\n",
        "# delinq_2yrs\t0.000075\n",
        "# pub_rec_bankruptcies\t0.000048\n",
        "# race_name\t0.000037\n",
        "# collection_recovery_fee\t0.000035\n",
        "# pub_rec\t0.000028"
      ],
      "metadata": {
        "id": "rHs6vez1olmE"
      },
      "execution_count": null,
      "outputs": []
    },
    {
      "cell_type": "code",
      "source": [
        "cols=['pub_rec','collection_recovery_fee','pub_rec_bankruptcies','delinq_2yrs']\n",
        "df=df.drop(columns=cols)"
      ],
      "metadata": {
        "id": "zXZqJjZYpHKe"
      },
      "execution_count": null,
      "outputs": []
    },
    {
      "cell_type": "code",
      "source": [
        "df.head()"
      ],
      "metadata": {
        "id": "B_wwI06lgsme",
        "colab": {
          "base_uri": "https://localhost:8080/",
          "height": 272
        },
        "outputId": "031438b7-a393-4670-9b40-e626f90dad6a"
      },
      "execution_count": null,
      "outputs": [
        {
          "output_type": "execute_result",
          "data": {
            "text/plain": [
              "   loan_amnt  term  installment  emp_length home_ownership  annual_inc    dti  \\\n",
              "0       5150    60       132.58         1.0           RENT     34992.0  17.59   \n",
              "1      20000    36       635.07         6.0           RENT     72000.0   7.80   \n",
              "2      12800    60       316.54         9.0       MORTGAGE     81708.0  14.22   \n",
              "3      14000    60       349.98         9.0       MORTGAGE     72000.0  20.35   \n",
              "4      15000    60       370.94         0.0           RENT     72000.0  20.50   \n",
              "\n",
              "   inq_last_6mths  mths_since_last_delinq  mths_since_last_record  ...  \\\n",
              "0             3.0                    33.0                   113.0  ...   \n",
              "1             2.0                    33.0                    55.0  ...   \n",
              "2             1.0                    15.0                    55.0  ...   \n",
              "3             1.0                    33.0                    55.0  ...   \n",
              "4             0.0                    33.0                    55.0  ...   \n",
              "\n",
              "   recoveries  interest_rate  revol_utilization  number_bc_gt_75  fico_score  \\\n",
              "0         0.0         0.1864              0.873                2         709   \n",
              "1         0.0         0.0890              0.354                0         744   \n",
              "2         0.0         0.1677              0.754                0         719   \n",
              "3         0.0         0.1727              0.357                0         714   \n",
              "4         0.0         0.1677              0.369                0         709   \n",
              "\n",
              "        lti  month_since_oldest_tl         race_name  gender  target  \n",
              "0  0.147176                  124.0             White  Female       1  \n",
              "1  0.277778                  149.0  African American  Female       1  \n",
              "2  0.156655                  176.0             White  Female       1  \n",
              "3  0.194444                  140.0             White  Female       1  \n",
              "4  0.208333                  136.0             White  Female       1  \n",
              "\n",
              "[5 rows x 24 columns]"
            ],
            "text/html": [
              "\n",
              "  <div id=\"df-63a4cf28-5c9c-42ec-a4d7-5375dfe52767\" class=\"colab-df-container\">\n",
              "    <div>\n",
              "<style scoped>\n",
              "    .dataframe tbody tr th:only-of-type {\n",
              "        vertical-align: middle;\n",
              "    }\n",
              "\n",
              "    .dataframe tbody tr th {\n",
              "        vertical-align: top;\n",
              "    }\n",
              "\n",
              "    .dataframe thead th {\n",
              "        text-align: right;\n",
              "    }\n",
              "</style>\n",
              "<table border=\"1\" class=\"dataframe\">\n",
              "  <thead>\n",
              "    <tr style=\"text-align: right;\">\n",
              "      <th></th>\n",
              "      <th>loan_amnt</th>\n",
              "      <th>term</th>\n",
              "      <th>installment</th>\n",
              "      <th>emp_length</th>\n",
              "      <th>home_ownership</th>\n",
              "      <th>annual_inc</th>\n",
              "      <th>dti</th>\n",
              "      <th>inq_last_6mths</th>\n",
              "      <th>mths_since_last_delinq</th>\n",
              "      <th>mths_since_last_record</th>\n",
              "      <th>...</th>\n",
              "      <th>recoveries</th>\n",
              "      <th>interest_rate</th>\n",
              "      <th>revol_utilization</th>\n",
              "      <th>number_bc_gt_75</th>\n",
              "      <th>fico_score</th>\n",
              "      <th>lti</th>\n",
              "      <th>month_since_oldest_tl</th>\n",
              "      <th>race_name</th>\n",
              "      <th>gender</th>\n",
              "      <th>target</th>\n",
              "    </tr>\n",
              "  </thead>\n",
              "  <tbody>\n",
              "    <tr>\n",
              "      <th>0</th>\n",
              "      <td>5150</td>\n",
              "      <td>60</td>\n",
              "      <td>132.58</td>\n",
              "      <td>1.0</td>\n",
              "      <td>RENT</td>\n",
              "      <td>34992.0</td>\n",
              "      <td>17.59</td>\n",
              "      <td>3.0</td>\n",
              "      <td>33.0</td>\n",
              "      <td>113.0</td>\n",
              "      <td>...</td>\n",
              "      <td>0.0</td>\n",
              "      <td>0.1864</td>\n",
              "      <td>0.873</td>\n",
              "      <td>2</td>\n",
              "      <td>709</td>\n",
              "      <td>0.147176</td>\n",
              "      <td>124.0</td>\n",
              "      <td>White</td>\n",
              "      <td>Female</td>\n",
              "      <td>1</td>\n",
              "    </tr>\n",
              "    <tr>\n",
              "      <th>1</th>\n",
              "      <td>20000</td>\n",
              "      <td>36</td>\n",
              "      <td>635.07</td>\n",
              "      <td>6.0</td>\n",
              "      <td>RENT</td>\n",
              "      <td>72000.0</td>\n",
              "      <td>7.80</td>\n",
              "      <td>2.0</td>\n",
              "      <td>33.0</td>\n",
              "      <td>55.0</td>\n",
              "      <td>...</td>\n",
              "      <td>0.0</td>\n",
              "      <td>0.0890</td>\n",
              "      <td>0.354</td>\n",
              "      <td>0</td>\n",
              "      <td>744</td>\n",
              "      <td>0.277778</td>\n",
              "      <td>149.0</td>\n",
              "      <td>African American</td>\n",
              "      <td>Female</td>\n",
              "      <td>1</td>\n",
              "    </tr>\n",
              "    <tr>\n",
              "      <th>2</th>\n",
              "      <td>12800</td>\n",
              "      <td>60</td>\n",
              "      <td>316.54</td>\n",
              "      <td>9.0</td>\n",
              "      <td>MORTGAGE</td>\n",
              "      <td>81708.0</td>\n",
              "      <td>14.22</td>\n",
              "      <td>1.0</td>\n",
              "      <td>15.0</td>\n",
              "      <td>55.0</td>\n",
              "      <td>...</td>\n",
              "      <td>0.0</td>\n",
              "      <td>0.1677</td>\n",
              "      <td>0.754</td>\n",
              "      <td>0</td>\n",
              "      <td>719</td>\n",
              "      <td>0.156655</td>\n",
              "      <td>176.0</td>\n",
              "      <td>White</td>\n",
              "      <td>Female</td>\n",
              "      <td>1</td>\n",
              "    </tr>\n",
              "    <tr>\n",
              "      <th>3</th>\n",
              "      <td>14000</td>\n",
              "      <td>60</td>\n",
              "      <td>349.98</td>\n",
              "      <td>9.0</td>\n",
              "      <td>MORTGAGE</td>\n",
              "      <td>72000.0</td>\n",
              "      <td>20.35</td>\n",
              "      <td>1.0</td>\n",
              "      <td>33.0</td>\n",
              "      <td>55.0</td>\n",
              "      <td>...</td>\n",
              "      <td>0.0</td>\n",
              "      <td>0.1727</td>\n",
              "      <td>0.357</td>\n",
              "      <td>0</td>\n",
              "      <td>714</td>\n",
              "      <td>0.194444</td>\n",
              "      <td>140.0</td>\n",
              "      <td>White</td>\n",
              "      <td>Female</td>\n",
              "      <td>1</td>\n",
              "    </tr>\n",
              "    <tr>\n",
              "      <th>4</th>\n",
              "      <td>15000</td>\n",
              "      <td>60</td>\n",
              "      <td>370.94</td>\n",
              "      <td>0.0</td>\n",
              "      <td>RENT</td>\n",
              "      <td>72000.0</td>\n",
              "      <td>20.50</td>\n",
              "      <td>0.0</td>\n",
              "      <td>33.0</td>\n",
              "      <td>55.0</td>\n",
              "      <td>...</td>\n",
              "      <td>0.0</td>\n",
              "      <td>0.1677</td>\n",
              "      <td>0.369</td>\n",
              "      <td>0</td>\n",
              "      <td>709</td>\n",
              "      <td>0.208333</td>\n",
              "      <td>136.0</td>\n",
              "      <td>White</td>\n",
              "      <td>Female</td>\n",
              "      <td>1</td>\n",
              "    </tr>\n",
              "  </tbody>\n",
              "</table>\n",
              "<p>5 rows × 24 columns</p>\n",
              "</div>\n",
              "    <div class=\"colab-df-buttons\">\n",
              "\n",
              "  <div class=\"colab-df-container\">\n",
              "    <button class=\"colab-df-convert\" onclick=\"convertToInteractive('df-63a4cf28-5c9c-42ec-a4d7-5375dfe52767')\"\n",
              "            title=\"Convert this dataframe to an interactive table.\"\n",
              "            style=\"display:none;\">\n",
              "\n",
              "  <svg xmlns=\"http://www.w3.org/2000/svg\" height=\"24px\" viewBox=\"0 -960 960 960\">\n",
              "    <path d=\"M120-120v-720h720v720H120Zm60-500h600v-160H180v160Zm220 220h160v-160H400v160Zm0 220h160v-160H400v160ZM180-400h160v-160H180v160Zm440 0h160v-160H620v160ZM180-180h160v-160H180v160Zm440 0h160v-160H620v160Z\"/>\n",
              "  </svg>\n",
              "    </button>\n",
              "\n",
              "  <style>\n",
              "    .colab-df-container {\n",
              "      display:flex;\n",
              "      gap: 12px;\n",
              "    }\n",
              "\n",
              "    .colab-df-convert {\n",
              "      background-color: #E8F0FE;\n",
              "      border: none;\n",
              "      border-radius: 50%;\n",
              "      cursor: pointer;\n",
              "      display: none;\n",
              "      fill: #1967D2;\n",
              "      height: 32px;\n",
              "      padding: 0 0 0 0;\n",
              "      width: 32px;\n",
              "    }\n",
              "\n",
              "    .colab-df-convert:hover {\n",
              "      background-color: #E2EBFA;\n",
              "      box-shadow: 0px 1px 2px rgba(60, 64, 67, 0.3), 0px 1px 3px 1px rgba(60, 64, 67, 0.15);\n",
              "      fill: #174EA6;\n",
              "    }\n",
              "\n",
              "    .colab-df-buttons div {\n",
              "      margin-bottom: 4px;\n",
              "    }\n",
              "\n",
              "    [theme=dark] .colab-df-convert {\n",
              "      background-color: #3B4455;\n",
              "      fill: #D2E3FC;\n",
              "    }\n",
              "\n",
              "    [theme=dark] .colab-df-convert:hover {\n",
              "      background-color: #434B5C;\n",
              "      box-shadow: 0px 1px 3px 1px rgba(0, 0, 0, 0.15);\n",
              "      filter: drop-shadow(0px 1px 2px rgba(0, 0, 0, 0.3));\n",
              "      fill: #FFFFFF;\n",
              "    }\n",
              "  </style>\n",
              "\n",
              "    <script>\n",
              "      const buttonEl =\n",
              "        document.querySelector('#df-63a4cf28-5c9c-42ec-a4d7-5375dfe52767 button.colab-df-convert');\n",
              "      buttonEl.style.display =\n",
              "        google.colab.kernel.accessAllowed ? 'block' : 'none';\n",
              "\n",
              "      async function convertToInteractive(key) {\n",
              "        const element = document.querySelector('#df-63a4cf28-5c9c-42ec-a4d7-5375dfe52767');\n",
              "        const dataTable =\n",
              "          await google.colab.kernel.invokeFunction('convertToInteractive',\n",
              "                                                    [key], {});\n",
              "        if (!dataTable) return;\n",
              "\n",
              "        const docLinkHtml = 'Like what you see? Visit the ' +\n",
              "          '<a target=\"_blank\" href=https://colab.research.google.com/notebooks/data_table.ipynb>data table notebook</a>'\n",
              "          + ' to learn more about interactive tables.';\n",
              "        element.innerHTML = '';\n",
              "        dataTable['output_type'] = 'display_data';\n",
              "        await google.colab.output.renderOutput(dataTable, element);\n",
              "        const docLink = document.createElement('div');\n",
              "        docLink.innerHTML = docLinkHtml;\n",
              "        element.appendChild(docLink);\n",
              "      }\n",
              "    </script>\n",
              "  </div>\n",
              "\n",
              "\n",
              "<div id=\"df-341722b4-d408-4f15-a3d3-4facde5a06f4\">\n",
              "  <button class=\"colab-df-quickchart\" onclick=\"quickchart('df-341722b4-d408-4f15-a3d3-4facde5a06f4')\"\n",
              "            title=\"Suggest charts\"\n",
              "            style=\"display:none;\">\n",
              "\n",
              "<svg xmlns=\"http://www.w3.org/2000/svg\" height=\"24px\"viewBox=\"0 0 24 24\"\n",
              "     width=\"24px\">\n",
              "    <g>\n",
              "        <path d=\"M19 3H5c-1.1 0-2 .9-2 2v14c0 1.1.9 2 2 2h14c1.1 0 2-.9 2-2V5c0-1.1-.9-2-2-2zM9 17H7v-7h2v7zm4 0h-2V7h2v10zm4 0h-2v-4h2v4z\"/>\n",
              "    </g>\n",
              "</svg>\n",
              "  </button>\n",
              "\n",
              "<style>\n",
              "  .colab-df-quickchart {\n",
              "      --bg-color: #E8F0FE;\n",
              "      --fill-color: #1967D2;\n",
              "      --hover-bg-color: #E2EBFA;\n",
              "      --hover-fill-color: #174EA6;\n",
              "      --disabled-fill-color: #AAA;\n",
              "      --disabled-bg-color: #DDD;\n",
              "  }\n",
              "\n",
              "  [theme=dark] .colab-df-quickchart {\n",
              "      --bg-color: #3B4455;\n",
              "      --fill-color: #D2E3FC;\n",
              "      --hover-bg-color: #434B5C;\n",
              "      --hover-fill-color: #FFFFFF;\n",
              "      --disabled-bg-color: #3B4455;\n",
              "      --disabled-fill-color: #666;\n",
              "  }\n",
              "\n",
              "  .colab-df-quickchart {\n",
              "    background-color: var(--bg-color);\n",
              "    border: none;\n",
              "    border-radius: 50%;\n",
              "    cursor: pointer;\n",
              "    display: none;\n",
              "    fill: var(--fill-color);\n",
              "    height: 32px;\n",
              "    padding: 0;\n",
              "    width: 32px;\n",
              "  }\n",
              "\n",
              "  .colab-df-quickchart:hover {\n",
              "    background-color: var(--hover-bg-color);\n",
              "    box-shadow: 0 1px 2px rgba(60, 64, 67, 0.3), 0 1px 3px 1px rgba(60, 64, 67, 0.15);\n",
              "    fill: var(--button-hover-fill-color);\n",
              "  }\n",
              "\n",
              "  .colab-df-quickchart-complete:disabled,\n",
              "  .colab-df-quickchart-complete:disabled:hover {\n",
              "    background-color: var(--disabled-bg-color);\n",
              "    fill: var(--disabled-fill-color);\n",
              "    box-shadow: none;\n",
              "  }\n",
              "\n",
              "  .colab-df-spinner {\n",
              "    border: 2px solid var(--fill-color);\n",
              "    border-color: transparent;\n",
              "    border-bottom-color: var(--fill-color);\n",
              "    animation:\n",
              "      spin 1s steps(1) infinite;\n",
              "  }\n",
              "\n",
              "  @keyframes spin {\n",
              "    0% {\n",
              "      border-color: transparent;\n",
              "      border-bottom-color: var(--fill-color);\n",
              "      border-left-color: var(--fill-color);\n",
              "    }\n",
              "    20% {\n",
              "      border-color: transparent;\n",
              "      border-left-color: var(--fill-color);\n",
              "      border-top-color: var(--fill-color);\n",
              "    }\n",
              "    30% {\n",
              "      border-color: transparent;\n",
              "      border-left-color: var(--fill-color);\n",
              "      border-top-color: var(--fill-color);\n",
              "      border-right-color: var(--fill-color);\n",
              "    }\n",
              "    40% {\n",
              "      border-color: transparent;\n",
              "      border-right-color: var(--fill-color);\n",
              "      border-top-color: var(--fill-color);\n",
              "    }\n",
              "    60% {\n",
              "      border-color: transparent;\n",
              "      border-right-color: var(--fill-color);\n",
              "    }\n",
              "    80% {\n",
              "      border-color: transparent;\n",
              "      border-right-color: var(--fill-color);\n",
              "      border-bottom-color: var(--fill-color);\n",
              "    }\n",
              "    90% {\n",
              "      border-color: transparent;\n",
              "      border-bottom-color: var(--fill-color);\n",
              "    }\n",
              "  }\n",
              "</style>\n",
              "\n",
              "  <script>\n",
              "    async function quickchart(key) {\n",
              "      const quickchartButtonEl =\n",
              "        document.querySelector('#' + key + ' button');\n",
              "      quickchartButtonEl.disabled = true;  // To prevent multiple clicks.\n",
              "      quickchartButtonEl.classList.add('colab-df-spinner');\n",
              "      try {\n",
              "        const charts = await google.colab.kernel.invokeFunction(\n",
              "            'suggestCharts', [key], {});\n",
              "      } catch (error) {\n",
              "        console.error('Error during call to suggestCharts:', error);\n",
              "      }\n",
              "      quickchartButtonEl.classList.remove('colab-df-spinner');\n",
              "      quickchartButtonEl.classList.add('colab-df-quickchart-complete');\n",
              "    }\n",
              "    (() => {\n",
              "      let quickchartButtonEl =\n",
              "        document.querySelector('#df-341722b4-d408-4f15-a3d3-4facde5a06f4 button');\n",
              "      quickchartButtonEl.style.display =\n",
              "        google.colab.kernel.accessAllowed ? 'block' : 'none';\n",
              "    })();\n",
              "  </script>\n",
              "</div>\n",
              "\n",
              "    </div>\n",
              "  </div>\n"
            ],
            "application/vnd.google.colaboratory.intrinsic+json": {
              "type": "dataframe",
              "variable_name": "df"
            }
          },
          "metadata": {},
          "execution_count": 133
        }
      ]
    },
    {
      "cell_type": "markdown",
      "source": [
        "Encode Object Type\n",
        "<br>\n",
        "<br>"
      ],
      "metadata": {
        "id": "dGtdUVKjiHoh"
      }
    },
    {
      "cell_type": "code",
      "source": [
        "from sklearn.preprocessing import LabelEncoder\n",
        "label_encoder = LabelEncoder()\n",
        "\n",
        "# Apply the label encoder to each non-numeric column\n",
        "for column in df.select_dtypes(include='object').columns:\n",
        "    df[column] = label_encoder.fit_transform(df[column])"
      ],
      "metadata": {
        "id": "IOrSJFRnlUL2"
      },
      "execution_count": null,
      "outputs": []
    },
    {
      "cell_type": "code",
      "source": [
        "df.head()"
      ],
      "metadata": {
        "id": "4cFGp82BoZo2",
        "colab": {
          "base_uri": "https://localhost:8080/",
          "height": 255
        },
        "outputId": "13b8eee2-0849-4381-aa26-fa042cc3c23d"
      },
      "execution_count": null,
      "outputs": [
        {
          "output_type": "execute_result",
          "data": {
            "text/plain": [
              "   loan_amnt  term  installment  emp_length  home_ownership  annual_inc  \\\n",
              "0       5150    60       132.58         1.0               4     34992.0   \n",
              "1      20000    36       635.07         6.0               4     72000.0   \n",
              "2      12800    60       316.54         9.0               0     81708.0   \n",
              "3      14000    60       349.98         9.0               0     72000.0   \n",
              "4      15000    60       370.94         0.0               4     72000.0   \n",
              "\n",
              "     dti  inq_last_6mths  mths_since_last_delinq  mths_since_last_record  ...  \\\n",
              "0  17.59             3.0                    33.0                   113.0  ...   \n",
              "1   7.80             2.0                    33.0                    55.0  ...   \n",
              "2  14.22             1.0                    15.0                    55.0  ...   \n",
              "3  20.35             1.0                    33.0                    55.0  ...   \n",
              "4  20.50             0.0                    33.0                    55.0  ...   \n",
              "\n",
              "   recoveries  interest_rate  revol_utilization  number_bc_gt_75  fico_score  \\\n",
              "0         0.0         0.1864              0.873                2         709   \n",
              "1         0.0         0.0890              0.354                0         744   \n",
              "2         0.0         0.1677              0.754                0         719   \n",
              "3         0.0         0.1727              0.357                0         714   \n",
              "4         0.0         0.1677              0.369                0         709   \n",
              "\n",
              "        lti  month_since_oldest_tl  race_name  gender  target  \n",
              "0  0.147176                  124.0          3       0       1  \n",
              "1  0.277778                  149.0          0       0       1  \n",
              "2  0.156655                  176.0          3       0       1  \n",
              "3  0.194444                  140.0          3       0       1  \n",
              "4  0.208333                  136.0          3       0       1  \n",
              "\n",
              "[5 rows x 24 columns]"
            ],
            "text/html": [
              "\n",
              "  <div id=\"df-21cdf67b-62a8-46ae-85fe-e7fcda768fec\" class=\"colab-df-container\">\n",
              "    <div>\n",
              "<style scoped>\n",
              "    .dataframe tbody tr th:only-of-type {\n",
              "        vertical-align: middle;\n",
              "    }\n",
              "\n",
              "    .dataframe tbody tr th {\n",
              "        vertical-align: top;\n",
              "    }\n",
              "\n",
              "    .dataframe thead th {\n",
              "        text-align: right;\n",
              "    }\n",
              "</style>\n",
              "<table border=\"1\" class=\"dataframe\">\n",
              "  <thead>\n",
              "    <tr style=\"text-align: right;\">\n",
              "      <th></th>\n",
              "      <th>loan_amnt</th>\n",
              "      <th>term</th>\n",
              "      <th>installment</th>\n",
              "      <th>emp_length</th>\n",
              "      <th>home_ownership</th>\n",
              "      <th>annual_inc</th>\n",
              "      <th>dti</th>\n",
              "      <th>inq_last_6mths</th>\n",
              "      <th>mths_since_last_delinq</th>\n",
              "      <th>mths_since_last_record</th>\n",
              "      <th>...</th>\n",
              "      <th>recoveries</th>\n",
              "      <th>interest_rate</th>\n",
              "      <th>revol_utilization</th>\n",
              "      <th>number_bc_gt_75</th>\n",
              "      <th>fico_score</th>\n",
              "      <th>lti</th>\n",
              "      <th>month_since_oldest_tl</th>\n",
              "      <th>race_name</th>\n",
              "      <th>gender</th>\n",
              "      <th>target</th>\n",
              "    </tr>\n",
              "  </thead>\n",
              "  <tbody>\n",
              "    <tr>\n",
              "      <th>0</th>\n",
              "      <td>5150</td>\n",
              "      <td>60</td>\n",
              "      <td>132.58</td>\n",
              "      <td>1.0</td>\n",
              "      <td>4</td>\n",
              "      <td>34992.0</td>\n",
              "      <td>17.59</td>\n",
              "      <td>3.0</td>\n",
              "      <td>33.0</td>\n",
              "      <td>113.0</td>\n",
              "      <td>...</td>\n",
              "      <td>0.0</td>\n",
              "      <td>0.1864</td>\n",
              "      <td>0.873</td>\n",
              "      <td>2</td>\n",
              "      <td>709</td>\n",
              "      <td>0.147176</td>\n",
              "      <td>124.0</td>\n",
              "      <td>3</td>\n",
              "      <td>0</td>\n",
              "      <td>1</td>\n",
              "    </tr>\n",
              "    <tr>\n",
              "      <th>1</th>\n",
              "      <td>20000</td>\n",
              "      <td>36</td>\n",
              "      <td>635.07</td>\n",
              "      <td>6.0</td>\n",
              "      <td>4</td>\n",
              "      <td>72000.0</td>\n",
              "      <td>7.80</td>\n",
              "      <td>2.0</td>\n",
              "      <td>33.0</td>\n",
              "      <td>55.0</td>\n",
              "      <td>...</td>\n",
              "      <td>0.0</td>\n",
              "      <td>0.0890</td>\n",
              "      <td>0.354</td>\n",
              "      <td>0</td>\n",
              "      <td>744</td>\n",
              "      <td>0.277778</td>\n",
              "      <td>149.0</td>\n",
              "      <td>0</td>\n",
              "      <td>0</td>\n",
              "      <td>1</td>\n",
              "    </tr>\n",
              "    <tr>\n",
              "      <th>2</th>\n",
              "      <td>12800</td>\n",
              "      <td>60</td>\n",
              "      <td>316.54</td>\n",
              "      <td>9.0</td>\n",
              "      <td>0</td>\n",
              "      <td>81708.0</td>\n",
              "      <td>14.22</td>\n",
              "      <td>1.0</td>\n",
              "      <td>15.0</td>\n",
              "      <td>55.0</td>\n",
              "      <td>...</td>\n",
              "      <td>0.0</td>\n",
              "      <td>0.1677</td>\n",
              "      <td>0.754</td>\n",
              "      <td>0</td>\n",
              "      <td>719</td>\n",
              "      <td>0.156655</td>\n",
              "      <td>176.0</td>\n",
              "      <td>3</td>\n",
              "      <td>0</td>\n",
              "      <td>1</td>\n",
              "    </tr>\n",
              "    <tr>\n",
              "      <th>3</th>\n",
              "      <td>14000</td>\n",
              "      <td>60</td>\n",
              "      <td>349.98</td>\n",
              "      <td>9.0</td>\n",
              "      <td>0</td>\n",
              "      <td>72000.0</td>\n",
              "      <td>20.35</td>\n",
              "      <td>1.0</td>\n",
              "      <td>33.0</td>\n",
              "      <td>55.0</td>\n",
              "      <td>...</td>\n",
              "      <td>0.0</td>\n",
              "      <td>0.1727</td>\n",
              "      <td>0.357</td>\n",
              "      <td>0</td>\n",
              "      <td>714</td>\n",
              "      <td>0.194444</td>\n",
              "      <td>140.0</td>\n",
              "      <td>3</td>\n",
              "      <td>0</td>\n",
              "      <td>1</td>\n",
              "    </tr>\n",
              "    <tr>\n",
              "      <th>4</th>\n",
              "      <td>15000</td>\n",
              "      <td>60</td>\n",
              "      <td>370.94</td>\n",
              "      <td>0.0</td>\n",
              "      <td>4</td>\n",
              "      <td>72000.0</td>\n",
              "      <td>20.50</td>\n",
              "      <td>0.0</td>\n",
              "      <td>33.0</td>\n",
              "      <td>55.0</td>\n",
              "      <td>...</td>\n",
              "      <td>0.0</td>\n",
              "      <td>0.1677</td>\n",
              "      <td>0.369</td>\n",
              "      <td>0</td>\n",
              "      <td>709</td>\n",
              "      <td>0.208333</td>\n",
              "      <td>136.0</td>\n",
              "      <td>3</td>\n",
              "      <td>0</td>\n",
              "      <td>1</td>\n",
              "    </tr>\n",
              "  </tbody>\n",
              "</table>\n",
              "<p>5 rows × 24 columns</p>\n",
              "</div>\n",
              "    <div class=\"colab-df-buttons\">\n",
              "\n",
              "  <div class=\"colab-df-container\">\n",
              "    <button class=\"colab-df-convert\" onclick=\"convertToInteractive('df-21cdf67b-62a8-46ae-85fe-e7fcda768fec')\"\n",
              "            title=\"Convert this dataframe to an interactive table.\"\n",
              "            style=\"display:none;\">\n",
              "\n",
              "  <svg xmlns=\"http://www.w3.org/2000/svg\" height=\"24px\" viewBox=\"0 -960 960 960\">\n",
              "    <path d=\"M120-120v-720h720v720H120Zm60-500h600v-160H180v160Zm220 220h160v-160H400v160Zm0 220h160v-160H400v160ZM180-400h160v-160H180v160Zm440 0h160v-160H620v160ZM180-180h160v-160H180v160Zm440 0h160v-160H620v160Z\"/>\n",
              "  </svg>\n",
              "    </button>\n",
              "\n",
              "  <style>\n",
              "    .colab-df-container {\n",
              "      display:flex;\n",
              "      gap: 12px;\n",
              "    }\n",
              "\n",
              "    .colab-df-convert {\n",
              "      background-color: #E8F0FE;\n",
              "      border: none;\n",
              "      border-radius: 50%;\n",
              "      cursor: pointer;\n",
              "      display: none;\n",
              "      fill: #1967D2;\n",
              "      height: 32px;\n",
              "      padding: 0 0 0 0;\n",
              "      width: 32px;\n",
              "    }\n",
              "\n",
              "    .colab-df-convert:hover {\n",
              "      background-color: #E2EBFA;\n",
              "      box-shadow: 0px 1px 2px rgba(60, 64, 67, 0.3), 0px 1px 3px 1px rgba(60, 64, 67, 0.15);\n",
              "      fill: #174EA6;\n",
              "    }\n",
              "\n",
              "    .colab-df-buttons div {\n",
              "      margin-bottom: 4px;\n",
              "    }\n",
              "\n",
              "    [theme=dark] .colab-df-convert {\n",
              "      background-color: #3B4455;\n",
              "      fill: #D2E3FC;\n",
              "    }\n",
              "\n",
              "    [theme=dark] .colab-df-convert:hover {\n",
              "      background-color: #434B5C;\n",
              "      box-shadow: 0px 1px 3px 1px rgba(0, 0, 0, 0.15);\n",
              "      filter: drop-shadow(0px 1px 2px rgba(0, 0, 0, 0.3));\n",
              "      fill: #FFFFFF;\n",
              "    }\n",
              "  </style>\n",
              "\n",
              "    <script>\n",
              "      const buttonEl =\n",
              "        document.querySelector('#df-21cdf67b-62a8-46ae-85fe-e7fcda768fec button.colab-df-convert');\n",
              "      buttonEl.style.display =\n",
              "        google.colab.kernel.accessAllowed ? 'block' : 'none';\n",
              "\n",
              "      async function convertToInteractive(key) {\n",
              "        const element = document.querySelector('#df-21cdf67b-62a8-46ae-85fe-e7fcda768fec');\n",
              "        const dataTable =\n",
              "          await google.colab.kernel.invokeFunction('convertToInteractive',\n",
              "                                                    [key], {});\n",
              "        if (!dataTable) return;\n",
              "\n",
              "        const docLinkHtml = 'Like what you see? Visit the ' +\n",
              "          '<a target=\"_blank\" href=https://colab.research.google.com/notebooks/data_table.ipynb>data table notebook</a>'\n",
              "          + ' to learn more about interactive tables.';\n",
              "        element.innerHTML = '';\n",
              "        dataTable['output_type'] = 'display_data';\n",
              "        await google.colab.output.renderOutput(dataTable, element);\n",
              "        const docLink = document.createElement('div');\n",
              "        docLink.innerHTML = docLinkHtml;\n",
              "        element.appendChild(docLink);\n",
              "      }\n",
              "    </script>\n",
              "  </div>\n",
              "\n",
              "\n",
              "<div id=\"df-3e236319-dc62-4fe3-9a8b-7c004b42fdc3\">\n",
              "  <button class=\"colab-df-quickchart\" onclick=\"quickchart('df-3e236319-dc62-4fe3-9a8b-7c004b42fdc3')\"\n",
              "            title=\"Suggest charts\"\n",
              "            style=\"display:none;\">\n",
              "\n",
              "<svg xmlns=\"http://www.w3.org/2000/svg\" height=\"24px\"viewBox=\"0 0 24 24\"\n",
              "     width=\"24px\">\n",
              "    <g>\n",
              "        <path d=\"M19 3H5c-1.1 0-2 .9-2 2v14c0 1.1.9 2 2 2h14c1.1 0 2-.9 2-2V5c0-1.1-.9-2-2-2zM9 17H7v-7h2v7zm4 0h-2V7h2v10zm4 0h-2v-4h2v4z\"/>\n",
              "    </g>\n",
              "</svg>\n",
              "  </button>\n",
              "\n",
              "<style>\n",
              "  .colab-df-quickchart {\n",
              "      --bg-color: #E8F0FE;\n",
              "      --fill-color: #1967D2;\n",
              "      --hover-bg-color: #E2EBFA;\n",
              "      --hover-fill-color: #174EA6;\n",
              "      --disabled-fill-color: #AAA;\n",
              "      --disabled-bg-color: #DDD;\n",
              "  }\n",
              "\n",
              "  [theme=dark] .colab-df-quickchart {\n",
              "      --bg-color: #3B4455;\n",
              "      --fill-color: #D2E3FC;\n",
              "      --hover-bg-color: #434B5C;\n",
              "      --hover-fill-color: #FFFFFF;\n",
              "      --disabled-bg-color: #3B4455;\n",
              "      --disabled-fill-color: #666;\n",
              "  }\n",
              "\n",
              "  .colab-df-quickchart {\n",
              "    background-color: var(--bg-color);\n",
              "    border: none;\n",
              "    border-radius: 50%;\n",
              "    cursor: pointer;\n",
              "    display: none;\n",
              "    fill: var(--fill-color);\n",
              "    height: 32px;\n",
              "    padding: 0;\n",
              "    width: 32px;\n",
              "  }\n",
              "\n",
              "  .colab-df-quickchart:hover {\n",
              "    background-color: var(--hover-bg-color);\n",
              "    box-shadow: 0 1px 2px rgba(60, 64, 67, 0.3), 0 1px 3px 1px rgba(60, 64, 67, 0.15);\n",
              "    fill: var(--button-hover-fill-color);\n",
              "  }\n",
              "\n",
              "  .colab-df-quickchart-complete:disabled,\n",
              "  .colab-df-quickchart-complete:disabled:hover {\n",
              "    background-color: var(--disabled-bg-color);\n",
              "    fill: var(--disabled-fill-color);\n",
              "    box-shadow: none;\n",
              "  }\n",
              "\n",
              "  .colab-df-spinner {\n",
              "    border: 2px solid var(--fill-color);\n",
              "    border-color: transparent;\n",
              "    border-bottom-color: var(--fill-color);\n",
              "    animation:\n",
              "      spin 1s steps(1) infinite;\n",
              "  }\n",
              "\n",
              "  @keyframes spin {\n",
              "    0% {\n",
              "      border-color: transparent;\n",
              "      border-bottom-color: var(--fill-color);\n",
              "      border-left-color: var(--fill-color);\n",
              "    }\n",
              "    20% {\n",
              "      border-color: transparent;\n",
              "      border-left-color: var(--fill-color);\n",
              "      border-top-color: var(--fill-color);\n",
              "    }\n",
              "    30% {\n",
              "      border-color: transparent;\n",
              "      border-left-color: var(--fill-color);\n",
              "      border-top-color: var(--fill-color);\n",
              "      border-right-color: var(--fill-color);\n",
              "    }\n",
              "    40% {\n",
              "      border-color: transparent;\n",
              "      border-right-color: var(--fill-color);\n",
              "      border-top-color: var(--fill-color);\n",
              "    }\n",
              "    60% {\n",
              "      border-color: transparent;\n",
              "      border-right-color: var(--fill-color);\n",
              "    }\n",
              "    80% {\n",
              "      border-color: transparent;\n",
              "      border-right-color: var(--fill-color);\n",
              "      border-bottom-color: var(--fill-color);\n",
              "    }\n",
              "    90% {\n",
              "      border-color: transparent;\n",
              "      border-bottom-color: var(--fill-color);\n",
              "    }\n",
              "  }\n",
              "</style>\n",
              "\n",
              "  <script>\n",
              "    async function quickchart(key) {\n",
              "      const quickchartButtonEl =\n",
              "        document.querySelector('#' + key + ' button');\n",
              "      quickchartButtonEl.disabled = true;  // To prevent multiple clicks.\n",
              "      quickchartButtonEl.classList.add('colab-df-spinner');\n",
              "      try {\n",
              "        const charts = await google.colab.kernel.invokeFunction(\n",
              "            'suggestCharts', [key], {});\n",
              "      } catch (error) {\n",
              "        console.error('Error during call to suggestCharts:', error);\n",
              "      }\n",
              "      quickchartButtonEl.classList.remove('colab-df-spinner');\n",
              "      quickchartButtonEl.classList.add('colab-df-quickchart-complete');\n",
              "    }\n",
              "    (() => {\n",
              "      let quickchartButtonEl =\n",
              "        document.querySelector('#df-3e236319-dc62-4fe3-9a8b-7c004b42fdc3 button');\n",
              "      quickchartButtonEl.style.display =\n",
              "        google.colab.kernel.accessAllowed ? 'block' : 'none';\n",
              "    })();\n",
              "  </script>\n",
              "</div>\n",
              "\n",
              "    </div>\n",
              "  </div>\n"
            ],
            "application/vnd.google.colaboratory.intrinsic+json": {
              "type": "dataframe",
              "variable_name": "df"
            }
          },
          "metadata": {},
          "execution_count": 135
        }
      ]
    },
    {
      "cell_type": "code",
      "source": [
        "df.isna().sum()"
      ],
      "metadata": {
        "id": "9EIO8UQwEwKA",
        "colab": {
          "base_uri": "https://localhost:8080/"
        },
        "outputId": "f83f12fa-a1e0-4c0c-fc55-65eddfc0bca2"
      },
      "execution_count": null,
      "outputs": [
        {
          "output_type": "execute_result",
          "data": {
            "text/plain": [
              "loan_amnt                 0\n",
              "term                      0\n",
              "installment               0\n",
              "emp_length                0\n",
              "home_ownership            0\n",
              "annual_inc                0\n",
              "dti                       0\n",
              "inq_last_6mths            0\n",
              "mths_since_last_delinq    0\n",
              "mths_since_last_record    0\n",
              "open_acc                  0\n",
              "revol_bal                 0\n",
              "total_acc                 0\n",
              "out_prncp                 0\n",
              "recoveries                0\n",
              "interest_rate             0\n",
              "revol_utilization         0\n",
              "number_bc_gt_75           0\n",
              "fico_score                0\n",
              "lti                       0\n",
              "month_since_oldest_tl     0\n",
              "race_name                 0\n",
              "gender                    0\n",
              "target                    0\n",
              "dtype: int64"
            ]
          },
          "metadata": {},
          "execution_count": 136
        }
      ]
    },
    {
      "cell_type": "markdown",
      "source": [
        "Training the data with Logistic regression, DTC, RFC and GBC"
      ],
      "metadata": {
        "id": "FzWLqjuMqGK0"
      }
    },
    {
      "cell_type": "code",
      "source": [
        "X= df.drop(columns=['target'])\n",
        "y=df['target']\n",
        "X_train, X_test, y_train, y_test = train_test_split(X,y, test_size=0.2,  random_state=101)\n",
        "getEvaluationMetrices(\"LR\",X_train,y_train,X_test,y_test)"
      ],
      "metadata": {
        "id": "O1HfZqK-p6-B",
        "colab": {
          "base_uri": "https://localhost:8080/",
          "height": 1000
        },
        "outputId": "22d8eadf-dae2-4a11-cdc4-a631287090f0"
      },
      "execution_count": null,
      "outputs": [
        {
          "output_type": "display_data",
          "data": {
            "text/plain": [
              "<Figure size 640x480 with 1 Axes>"
            ],
            "image/png": "[encoded data removed]"
          },
          "metadata": {}
        },
        {
          "output_type": "stream",
          "name": "stdout",
          "text": [
            "Training accuracy : 97.29340543082168%\n",
            "Testing accuracy : 97.49617961678616%\n",
            "\n"
          ]
        },
        {
          "output_type": "display_data",
          "data": {
            "text/plain": [
              "<Figure size 640x480 with 2 Axes>"
            ],
            "image/png": "[encoded data removed]"
          },
          "metadata": {}
        },
        {
          "output_type": "stream",
          "name": "stdout",
          "text": [
            "\n",
            "              precision    recall  f1-score   support\n",
            "\n",
            "           0       0.97      0.86      0.91      1305\n",
            "           1       0.98      1.00      0.99      7202\n",
            "\n",
            "    accuracy                           0.97      8507\n",
            "   macro avg       0.97      0.93      0.95      8507\n",
            "weighted avg       0.97      0.97      0.97      8507\n",
            "\n"
          ]
        }
      ]
    },
    {
      "cell_type": "code",
      "source": [
        "getEvaluationMetrices(\"DT\",X_train,y_train,X_test,y_test)"
      ],
      "metadata": {
        "id": "NenboQmYrnDp",
        "colab": {
          "base_uri": "https://localhost:8080/",
          "height": 684
        },
        "outputId": "15d93614-d078-4db6-f7a8-4d9fe9329ed6"
      },
      "execution_count": null,
      "outputs": [
        {
          "output_type": "stream",
          "name": "stdout",
          "text": [
            "Training accuracy : 99.19478076877866%\n",
            "Testing accuracy : 98.18972610791114%\n",
            "\n"
          ]
        },
        {
          "output_type": "display_data",
          "data": {
            "text/plain": [
              "<Figure size 640x480 with 2 Axes>"
            ],
            "image/png": "[encoded data removed]"
          },
          "metadata": {}
        },
        {
          "output_type": "stream",
          "name": "stdout",
          "text": [
            "\n",
            "              precision    recall  f1-score   support\n",
            "\n",
            "           0       0.96      0.92      0.94      1305\n",
            "           1       0.99      0.99      0.99      7202\n",
            "\n",
            "    accuracy                           0.98      8507\n",
            "   macro avg       0.97      0.96      0.96      8507\n",
            "weighted avg       0.98      0.98      0.98      8507\n",
            "\n"
          ]
        }
      ]
    },
    {
      "cell_type": "code",
      "source": [
        "getEvaluationMetrices(\"RF\",X_train,y_train,X_test,y_test)"
      ],
      "metadata": {
        "id": "5O3MkdVOrtWK",
        "colab": {
          "base_uri": "https://localhost:8080/",
          "height": 684
        },
        "outputId": "55669a87-fc70-4b0e-b468-da5e369a909a"
      },
      "execution_count": null,
      "outputs": [
        {
          "output_type": "stream",
          "name": "stdout",
          "text": [
            "Training accuracy : 98.97143528858588%\n",
            "Testing accuracy : 98.47184671447043%\n",
            "\n"
          ]
        },
        {
          "output_type": "display_data",
          "data": {
            "text/plain": [
              "<Figure size 640x480 with 2 Axes>"
            ],
            "image/png": "[encoded data removed]"
          },
          "metadata": {}
        },
        {
          "output_type": "stream",
          "name": "stdout",
          "text": [
            "\n",
            "              precision    recall  f1-score   support\n",
            "\n",
            "           0       0.99      0.91      0.95      1305\n",
            "           1       0.98      1.00      0.99      7202\n",
            "\n",
            "    accuracy                           0.98      8507\n",
            "   macro avg       0.99      0.95      0.97      8507\n",
            "weighted avg       0.98      0.98      0.98      8507\n",
            "\n"
          ]
        }
      ]
    },
    {
      "cell_type": "code",
      "source": [
        "getEvaluationMetrices(\"GBC\",X_train,y_train,X_test,y_test)"
      ],
      "metadata": {
        "colab": {
          "base_uri": "https://localhost:8080/",
          "height": 684
        },
        "id": "7dU2C0LTrvr4",
        "outputId": "5bb7b98a-941b-44d0-ea5e-e9253a164103"
      },
      "execution_count": null,
      "outputs": [
        {
          "output_type": "stream",
          "name": "stdout",
          "text": [
            "Training accuracy : 99.55330903961443%\n",
            "Testing accuracy : 98.89502762430939%\n",
            "\n"
          ]
        },
        {
          "output_type": "display_data",
          "data": {
            "text/plain": [
              "<Figure size 640x480 with 2 Axes>"
            ],
            "image/png": "[encoded data removed]"
          },
          "metadata": {}
        },
        {
          "output_type": "stream",
          "name": "stdout",
          "text": [
            "\n",
            "              precision    recall  f1-score   support\n",
            "\n",
            "           0       0.99      0.94      0.96      1305\n",
            "           1       0.99      1.00      0.99      7202\n",
            "\n",
            "    accuracy                           0.99      8507\n",
            "   macro avg       0.99      0.97      0.98      8507\n",
            "weighted avg       0.99      0.99      0.99      8507\n",
            "\n"
          ]
        }
      ]
    },
    {
      "cell_type": "markdown",
      "source": [
        "Gradient Boosting Classification gave the best accuracy and metric values."
      ],
      "metadata": {
        "id": "YBqCg8Ers9_k"
      }
    },
    {
      "cell_type": "code",
      "source": [
        "df['target'].value_counts()"
      ],
      "metadata": {
        "colab": {
          "base_uri": "https://localhost:8080/"
        },
        "id": "VCKBK56Xc13M",
        "outputId": "6aca7ef3-611f-4c3a-eab7-0c8face4db10"
      },
      "execution_count": null,
      "outputs": [
        {
          "output_type": "execute_result",
          "data": {
            "text/plain": [
              "target\n",
              "1    36087\n",
              "0     6448\n",
              "Name: count, dtype: int64"
            ]
          },
          "metadata": {},
          "execution_count": 141
        }
      ]
    },
    {
      "cell_type": "markdown",
      "source": [
        "Even the data is Imbalanced Data our model metric values are pretty good for both the classes(approve/decline). Lets also make model using UnderSampling or OverSampling to overcome Imbalance"
      ],
      "metadata": {
        "id": "16CJcYuG2E5y"
      }
    },
    {
      "cell_type": "markdown",
      "source": [
        "##Undersampling"
      ],
      "metadata": {
        "id": "7eIYk4W6eC6u"
      }
    },
    {
      "cell_type": "code",
      "source": [
        "minority_class_length= len(df[df['target']==0])\n",
        "print(minority_class_length)\n",
        "#storing majority class indices and minority class indices\n",
        "majority_class_indices =(df[df['target']==1]).index\n",
        "minority_class_indices =(df[df['target']==0]).index\n",
        "print(majority_class_indices)\n",
        "#choosing majority class indices randomly of size minority class\n",
        "random_maj_indices= np.random.choice(majority_class_indices,minority_class_length,replace=False)\n",
        "#concatenate indices\n",
        "under_sample_indices= np.concatenate([minority_class_indices,random_maj_indices])\n",
        "#make the data frame\n",
        "under_sample= df.loc[under_sample_indices]"
      ],
      "metadata": {
        "colab": {
          "base_uri": "https://localhost:8080/"
        },
        "id": "1MtdRNSRdED3",
        "outputId": "ba15b429-9c36-4e53-faea-7b04a866f7f9"
      },
      "execution_count": null,
      "outputs": [
        {
          "output_type": "stream",
          "name": "stdout",
          "text": [
            "6448\n",
            "Index([    0,     1,     2,     3,     4,     5,     6,     7,     8,     9,\n",
            "       ...\n",
            "       36077, 36078, 36079, 36080, 36081, 36082, 36083, 36084, 36085, 36086],\n",
            "      dtype='int64', length=36087)\n"
          ]
        }
      ]
    },
    {
      "cell_type": "code",
      "source": [
        "sns.countplot(x='target',data=under_sample)"
      ],
      "metadata": {
        "colab": {
          "base_uri": "https://localhost:8080/",
          "height": 467
        },
        "id": "07gPnF7Ls4dY",
        "outputId": "8c809190-e8a4-46c6-91ee-fa3210904131"
      },
      "execution_count": null,
      "outputs": [
        {
          "output_type": "execute_result",
          "data": {
            "text/plain": [
              "<Axes: xlabel='target', ylabel='count'>"
            ]
          },
          "metadata": {},
          "execution_count": 143
        },
        {
          "output_type": "display_data",
          "data": {
            "text/plain": [
              "<Figure size 640x480 with 1 Axes>"
            ],
            "image/png": "[encoded data removed]"
          },
          "metadata": {}
        }
      ]
    },
    {
      "cell_type": "markdown",
      "source": [
        "### Performing Logistic Regression, Decision tree Classification, Random forest Classification and GBC on Undersampled Dataset"
      ],
      "metadata": {
        "id": "4NRm7dQIuS5O"
      }
    },
    {
      "cell_type": "code",
      "source": [
        "X= under_sample.drop(columns=['target'])\n",
        "y=under_sample['target']\n",
        "X_train, X_test, y_train, y_test = train_test_split(X,y, test_size=0.2,  random_state=101)"
      ],
      "metadata": {
        "id": "KUAqaABL_1Yv"
      },
      "execution_count": null,
      "outputs": []
    },
    {
      "cell_type": "code",
      "source": [
        "getEvaluationMetrices(\"LR\",X_train,y_train,X_test,y_test)"
      ],
      "metadata": {
        "colab": {
          "base_uri": "https://localhost:8080/",
          "height": 1000
        },
        "id": "a0umQIzauWTD",
        "outputId": "a8bc7ed0-dacb-450b-bc02-0591a0a10038"
      },
      "execution_count": null,
      "outputs": [
        {
          "output_type": "display_data",
          "data": {
            "text/plain": [
              "<Figure size 640x480 with 1 Axes>"
            ],
            "image/png": "[encoded data removed]"
          },
          "metadata": {}
        },
        {
          "output_type": "stream",
          "name": "stdout",
          "text": [
            "Training accuracy : 94.03838697169445%\n",
            "Testing accuracy : 93.56589147286822%\n",
            "\n"
          ]
        },
        {
          "output_type": "display_data",
          "data": {
            "text/plain": [
              "<Figure size 640x480 with 2 Axes>"
            ],
            "image/png": "[encoded data removed]"
          },
          "metadata": {}
        },
        {
          "output_type": "stream",
          "name": "stdout",
          "text": [
            "\n",
            "              precision    recall  f1-score   support\n",
            "\n",
            "           0       0.95      0.92      0.93      1275\n",
            "           1       0.92      0.95      0.94      1305\n",
            "\n",
            "    accuracy                           0.94      2580\n",
            "   macro avg       0.94      0.94      0.94      2580\n",
            "weighted avg       0.94      0.94      0.94      2580\n",
            "\n"
          ]
        }
      ]
    },
    {
      "cell_type": "code",
      "source": [
        "getEvaluationMetrices(\"DT\",X_train,y_train,X_test,y_test)"
      ],
      "metadata": {
        "colab": {
          "base_uri": "https://localhost:8080/",
          "height": 684
        },
        "id": "N5IMkqMOydBf",
        "outputId": "d5f2090e-173e-4446-84e8-d0e528223dbd"
      },
      "execution_count": null,
      "outputs": [
        {
          "output_type": "stream",
          "name": "stdout",
          "text": [
            "Training accuracy : 99.28266770065916%\n",
            "Testing accuracy : 95.31007751937985%\n",
            "\n"
          ]
        },
        {
          "output_type": "display_data",
          "data": {
            "text/plain": [
              "<Figure size 640x480 with 2 Axes>"
            ],
            "image/png": "[encoded data removed]"
          },
          "metadata": {}
        },
        {
          "output_type": "stream",
          "name": "stdout",
          "text": [
            "\n",
            "              precision    recall  f1-score   support\n",
            "\n",
            "           0       0.96      0.95      0.95      1275\n",
            "           1       0.95      0.96      0.95      1305\n",
            "\n",
            "    accuracy                           0.95      2580\n",
            "   macro avg       0.95      0.95      0.95      2580\n",
            "weighted avg       0.95      0.95      0.95      2580\n",
            "\n"
          ]
        }
      ]
    },
    {
      "cell_type": "code",
      "source": [
        "getEvaluationMetrices(\"RF\",X_train,y_train,X_test,y_test)"
      ],
      "metadata": {
        "colab": {
          "base_uri": "https://localhost:8080/",
          "height": 684
        },
        "id": "-O_w0CXJKawY",
        "outputId": "e6fa3731-7f50-49f0-b98c-f8391eea658b"
      },
      "execution_count": null,
      "outputs": [
        {
          "output_type": "stream",
          "name": "stdout",
          "text": [
            "Training accuracy : 99.22450562233423%\n",
            "Testing accuracy : 96.82170542635659%\n",
            "\n"
          ]
        },
        {
          "output_type": "display_data",
          "data": {
            "text/plain": [
              "<Figure size 640x480 with 2 Axes>"
            ],
            "image/png": "[encoded data removed]"
          },
          "metadata": {}
        },
        {
          "output_type": "stream",
          "name": "stdout",
          "text": [
            "\n",
            "              precision    recall  f1-score   support\n",
            "\n",
            "           0       0.98      0.96      0.97      1275\n",
            "           1       0.96      0.98      0.97      1305\n",
            "\n",
            "    accuracy                           0.97      2580\n",
            "   macro avg       0.97      0.97      0.97      2580\n",
            "weighted avg       0.97      0.97      0.97      2580\n",
            "\n"
          ]
        }
      ]
    },
    {
      "cell_type": "code",
      "source": [
        "getEvaluationMetrices(\"GBC\",X_train,y_train,X_test,y_test)"
      ],
      "metadata": {
        "colab": {
          "base_uri": "https://localhost:8080/",
          "height": 684
        },
        "id": "4OxsxhGSNSHU",
        "outputId": "d2543d43-9080-4bc4-e0af-436ba9fd39f5"
      },
      "execution_count": null,
      "outputs": [
        {
          "output_type": "stream",
          "name": "stdout",
          "text": [
            "Training accuracy : 99.68980224893369%\n",
            "Testing accuracy : 97.63565891472868%\n",
            "\n"
          ]
        },
        {
          "output_type": "display_data",
          "data": {
            "text/plain": [
              "<Figure size 640x480 with 2 Axes>"
            ],
            "image/png": "[encoded data removed]"
          },
          "metadata": {}
        },
        {
          "output_type": "stream",
          "name": "stdout",
          "text": [
            "\n",
            "              precision    recall  f1-score   support\n",
            "\n",
            "           0       0.98      0.97      0.98      1275\n",
            "           1       0.97      0.98      0.98      1305\n",
            "\n",
            "    accuracy                           0.98      2580\n",
            "   macro avg       0.98      0.98      0.98      2580\n",
            "weighted avg       0.98      0.98      0.98      2580\n",
            "\n"
          ]
        }
      ]
    },
    {
      "cell_type": "markdown",
      "source": [
        "In Undersampling among all the four models(LR,DTC,RFC and GBC) Gradient Boosting Classification gave best accuracy and metric values (precision, recall and F1-score) but using Undersampling for loan screening is a draw back as we randomly chose majority class indices, the model cant cover all the cases. The model dont perform well on a new case data."
      ],
      "metadata": {
        "id": "oBzmb_hJ3s63"
      }
    },
    {
      "cell_type": "markdown",
      "source": [
        "##OverSampling"
      ],
      "metadata": {
        "id": "xRiAGXFtd9FL"
      }
    },
    {
      "cell_type": "markdown",
      "source": [
        "Using SMOTE for OverSampling"
      ],
      "metadata": {
        "id": "NLJSD8oT68xM"
      }
    },
    {
      "cell_type": "code",
      "source": [
        "smote = SMOTE(random_state=101,sampling_strategy=1.0)\n",
        "X= df.drop(columns=['target'])\n",
        "y=df['target']\n",
        "X_train, X_test, y_train, y_test = train_test_split(X,y, test_size=0.2,  random_state=101)\n",
        "smote = SMOTE(random_state=101, sampling_strategy=1.0)\n",
        "X_train_smote, y_train_smote = smote.fit_resample(X_train, y_train)"
      ],
      "metadata": {
        "id": "N7vsBeHQd8H-"
      },
      "execution_count": null,
      "outputs": []
    },
    {
      "cell_type": "code",
      "source": [
        "print(\"Before Smote:\", Counter(y_train))\n",
        "print(\"After Smote:\", Counter(y_train_smote))"
      ],
      "metadata": {
        "colab": {
          "base_uri": "https://localhost:8080/"
        },
        "id": "WUExUdSr1SLl",
        "outputId": "08282217-f139-4984-dd09-dd18e39bc8f7"
      },
      "execution_count": null,
      "outputs": [
        {
          "output_type": "stream",
          "name": "stdout",
          "text": [
            "Before Smote: Counter({1: 28885, 0: 5143})\n",
            "After Smote: Counter({1: 28885, 0: 28885})\n"
          ]
        }
      ]
    },
    {
      "cell_type": "code",
      "source": [
        "getEvaluationMetrices(\"GBC\", X_train_smote, y_train_smote,X_test,y_test,feature_imp=\"feature_imp\")"
      ],
      "metadata": {
        "id": "dkzg6Dcp_Kmo",
        "colab": {
          "base_uri": "https://localhost:8080/",
          "height": 1000
        },
        "outputId": "cdfe18d5-5e26-4c51-dd07-5e374afc313e"
      },
      "execution_count": null,
      "outputs": [
        {
          "output_type": "stream",
          "name": "stdout",
          "text": [
            "Training accuracy : 99.53955340141943%\n",
            "Testing accuracy : 98.918537674856%\n",
            "\n"
          ]
        },
        {
          "output_type": "display_data",
          "data": {
            "text/plain": [
              "<Figure size 640x480 with 2 Axes>"
            ],
            "image/png": "[encoded data removed]"
          },
          "metadata": {}
        },
        {
          "output_type": "stream",
          "name": "stdout",
          "text": [
            "\n",
            "              precision    recall  f1-score   support\n",
            "\n",
            "           0       0.99      0.94      0.96      1305\n",
            "           1       0.99      1.00      0.99      7202\n",
            "\n",
            "    accuracy                           0.99      8507\n",
            "   macro avg       0.99      0.97      0.98      8507\n",
            "weighted avg       0.99      0.99      0.99      8507\n",
            "\n",
            "                        Importance\n",
            "recoveries                0.821230\n",
            "fico_score                0.078564\n",
            "inq_last_6mths            0.031543\n",
            "month_since_oldest_tl     0.024376\n",
            "interest_rate             0.012187\n",
            "total_acc                 0.010541\n",
            "mths_since_last_record    0.005376\n",
            "term                      0.004359\n",
            "number_bc_gt_75           0.002925\n",
            "loan_amnt                 0.002610\n",
            "revol_bal                 0.001876\n",
            "lti                       0.001114\n",
            "emp_length                0.000568\n",
            "dti                       0.000531\n",
            "installment               0.000406\n",
            "mths_since_last_delinq    0.000405\n",
            "annual_inc                0.000381\n",
            "home_ownership            0.000286\n",
            "open_acc                  0.000252\n",
            "revol_utilization         0.000231\n",
            "out_prncp                 0.000114\n",
            "gender                    0.000088\n",
            "race_name                 0.000035\n"
          ]
        }
      ]
    },
    {
      "cell_type": "markdown",
      "source": [
        "OverSampling GBC gave the best results among all"
      ],
      "metadata": {
        "id": "oth8gcj5DNEt"
      }
    }
  ]
}